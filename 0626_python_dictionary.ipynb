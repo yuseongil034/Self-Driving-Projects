{
  "nbformat": 4,
  "nbformat_minor": 0,
  "metadata": {
    "colab": {
      "provenance": [],
      "authorship_tag": "ABX9TyPmhYltVB3nqypU9RTJV+2a",
      "include_colab_link": true
    },
    "kernelspec": {
      "name": "python3",
      "display_name": "Python 3"
    },
    "language_info": {
      "name": "python"
    }
  },
  "cells": [
    {
      "cell_type": "markdown",
      "metadata": {
        "id": "view-in-github",
        "colab_type": "text"
      },
      "source": [
        "<a href=\"https://colab.research.google.com/github/yuseongil034/yuseongil/blob/main/0626_python_dictionary.ipynb\" target=\"_parent\"><img src=\"https://colab.research.google.com/assets/colab-badge.svg\" alt=\"Open In Colab\"/></a>"
      ]
    },
    {
      "cell_type": "markdown",
      "source": [
        "1. 딕셔너리란?\n",
        "딕셔너리(Dictionary)는 키(key)와 값(value) 쌍으로 데이터를 저장하는 자료형입니다.\n",
        "\n",
        "순서가 없으며, 키를 통해 값을 빠르게 찾을 수 있습니다.\n",
        "\n",
        "중괄호 {}와 콜론 :을 사용합니다.\n",
        "\n",
        "python"
      ],
      "metadata": {
        "id": "ZEmVm5IIKmut"
      }
    },
    {
      "cell_type": "code",
      "source": [
        "my_dict = {\n",
        "    \"name\": \"철수\",\n",
        "    \"age\": 20,\n",
        "    \"city\": \"서울\"\n",
        "}\n",
        "print(my_dict)"
      ],
      "metadata": {
        "colab": {
          "base_uri": "https://localhost:8080/"
        },
        "id": "igsn6waiLVzd",
        "outputId": "b245c871-b843-4c71-93db-5ca0f475990d"
      },
      "execution_count": 20,
      "outputs": [
        {
          "output_type": "stream",
          "name": "stdout",
          "text": [
            "{'name': '철수', 'age': 20, 'city': '서울'}\n"
          ]
        }
      ]
    },
    {
      "cell_type": "markdown",
      "source": [
        "2. 딕셔너리 기본 사용법\n",
        "2-1. 딕셔너리 생성"
      ],
      "metadata": {
        "id": "c8IADa7SLZKW"
      }
    },
    {
      "cell_type": "code",
      "source": [
        "car = {\n",
        "    \"brand\": \"현대\",\n",
        "    \"model\": \"아반떼\",\n",
        "    \"year\": 2023\n",
        "}\n",
        "print(car)"
      ],
      "metadata": {
        "colab": {
          "base_uri": "https://localhost:8080/"
        },
        "id": "rvILCvJyLaZg",
        "outputId": "4c6de8b8-ec09-4729-f89c-1dc90f6067c0"
      },
      "execution_count": 21,
      "outputs": [
        {
          "output_type": "stream",
          "name": "stdout",
          "text": [
            "{'brand': '현대', 'model': '아반떼', 'year': 2023}\n"
          ]
        }
      ]
    },
    {
      "cell_type": "markdown",
      "source": [
        "2-2. 값 접근"
      ],
      "metadata": {
        "id": "PYLODVrmLcW3"
      }
    },
    {
      "cell_type": "code",
      "source": [
        "print(car[\"brand\"])\n",
        "print(car[\"model\"])"
      ],
      "metadata": {
        "colab": {
          "base_uri": "https://localhost:8080/"
        },
        "id": "vVZkHtr6LgyZ",
        "outputId": "84780b96-a40a-4a06-fe45-f99f0e606e1c"
      },
      "execution_count": 22,
      "outputs": [
        {
          "output_type": "stream",
          "name": "stdout",
          "text": [
            "현대\n",
            "아반떼\n"
          ]
        }
      ]
    },
    {
      "cell_type": "markdown",
      "source": [
        "2-3. 값 추가/수정"
      ],
      "metadata": {
        "id": "R2Ze-6QLLjoR"
      }
    },
    {
      "cell_type": "code",
      "source": [
        "car[\"color\"] = \"흰색\"  # 추가\n",
        "car[\"year\"] = 2024    # 수정\n",
        "print(car)"
      ],
      "metadata": {
        "colab": {
          "base_uri": "https://localhost:8080/"
        },
        "id": "oK5StVzGLlyr",
        "outputId": "43d8c158-40b3-45f8-857c-a507e305999b"
      },
      "execution_count": 23,
      "outputs": [
        {
          "output_type": "stream",
          "name": "stdout",
          "text": [
            "{'brand': '현대', 'model': '아반떼', 'year': 2024, 'color': '흰색'}\n"
          ]
        }
      ]
    },
    {
      "cell_type": "markdown",
      "source": [
        "2-4. 값 삭제"
      ],
      "metadata": {
        "id": "rm5OjscgLnMP"
      }
    },
    {
      "cell_type": "code",
      "source": [
        "del car[\"color\"]\n",
        "print(car)"
      ],
      "metadata": {
        "colab": {
          "base_uri": "https://localhost:8080/"
        },
        "id": "_fqhcmMtLoX-",
        "outputId": "347394c5-213b-4cd7-c251-4980343ee6b0"
      },
      "execution_count": 24,
      "outputs": [
        {
          "output_type": "stream",
          "name": "stdout",
          "text": [
            "{'brand': '현대', 'model': '아반떼', 'year': 2024}\n"
          ]
        }
      ]
    },
    {
      "cell_type": "markdown",
      "source": [
        "3. 딕셔너리 반복문 활용"
      ],
      "metadata": {
        "id": "8pQDMxsGL3NP"
      }
    },
    {
      "cell_type": "markdown",
      "source": [
        "\n",
        "3-1. 키만 반복"
      ],
      "metadata": {
        "id": "iF-66Y93LqCA"
      }
    },
    {
      "cell_type": "code",
      "source": [
        "for key in car:\n",
        "    print(key)"
      ],
      "metadata": {
        "colab": {
          "base_uri": "https://localhost:8080/"
        },
        "id": "M7Ascw1fLrnc",
        "outputId": "453e7386-b216-49c5-c519-9072f97daa16"
      },
      "execution_count": 25,
      "outputs": [
        {
          "output_type": "stream",
          "name": "stdout",
          "text": [
            "brand\n",
            "model\n",
            "year\n"
          ]
        }
      ]
    },
    {
      "cell_type": "markdown",
      "source": [
        "3-2. 값만 반복"
      ],
      "metadata": {
        "id": "zmhodi2ELtd5"
      }
    },
    {
      "cell_type": "code",
      "source": [
        "for value in car.values():\n",
        "    print(value)"
      ],
      "metadata": {
        "colab": {
          "base_uri": "https://localhost:8080/"
        },
        "id": "zbbafcTSL8eq",
        "outputId": "e19c4ec4-fab4-4fc9-d7a3-e5ce862a9559"
      },
      "execution_count": 26,
      "outputs": [
        {
          "output_type": "stream",
          "name": "stdout",
          "text": [
            "현대\n",
            "아반떼\n",
            "2024\n"
          ]
        }
      ]
    },
    {
      "cell_type": "markdown",
      "source": [
        "3-3. 키와 값 모두 반복"
      ],
      "metadata": {
        "id": "oEqHSvxTL97A"
      }
    },
    {
      "cell_type": "code",
      "source": [
        "for key, value in car.items():\n",
        "    print(key, \":\", value)"
      ],
      "metadata": {
        "colab": {
          "base_uri": "https://localhost:8080/"
        },
        "id": "QKH9bxf2L_1I",
        "outputId": "eebc8f07-9746-43c7-e96d-e7db7dddff90"
      },
      "execution_count": 27,
      "outputs": [
        {
          "output_type": "stream",
          "name": "stdout",
          "text": [
            "brand : 현대\n",
            "model : 아반떼\n",
            "year : 2024\n"
          ]
        }
      ]
    },
    {
      "cell_type": "markdown",
      "source": [
        "4. 딕셔너리와 리스트 결합 활용"
      ],
      "metadata": {
        "id": "SYidvEzEMFr4"
      }
    },
    {
      "cell_type": "markdown",
      "source": [
        "4-1. 리스트 안에 딕셔너리"
      ],
      "metadata": {
        "id": "52yBPZ_uMHDD"
      }
    },
    {
      "cell_type": "code",
      "source": [
        "cars = [\n",
        "    {\"brand\": \"현대\", \"model\": \"아반떼\", \"year\": 2023},\n",
        "    {\"brand\": \"기아\", \"model\": \"K5\", \"year\": 2022},\n",
        "    {\"brand\": \"테슬라\", \"model\": \"Model 3\", \"year\": 2024}\n",
        "]\n",
        "print(cars)"
      ],
      "metadata": {
        "colab": {
          "base_uri": "https://localhost:8080/"
        },
        "id": "is8LAOBsMKty",
        "outputId": "3d9082da-dd70-4e5c-d1f7-7083abf9307b"
      },
      "execution_count": 28,
      "outputs": [
        {
          "output_type": "stream",
          "name": "stdout",
          "text": [
            "[{'brand': '현대', 'model': '아반떼', 'year': 2023}, {'brand': '기아', 'model': 'K5', 'year': 2022}, {'brand': '테슬라', 'model': 'Model 3', 'year': 2024}]\n"
          ]
        }
      ]
    },
    {
      "cell_type": "markdown",
      "source": [
        "4-2. 리스트와 딕셔너리 반복문 활용"
      ],
      "metadata": {
        "id": "kdqhm8U7MMqx"
      }
    },
    {
      "cell_type": "code",
      "source": [
        "for car in cars:\n",
        "    print(car[\"brand\"], car[\"model\"], car[\"year\"])"
      ],
      "metadata": {
        "colab": {
          "base_uri": "https://localhost:8080/"
        },
        "id": "3nGS1jpXMOuE",
        "outputId": "f6202a5e-d9bd-404c-ab45-97417f5b8d57"
      },
      "execution_count": 29,
      "outputs": [
        {
          "output_type": "stream",
          "name": "stdout",
          "text": [
            "현대 아반떼 2023\n",
            "기아 K5 2022\n",
            "테슬라 Model 3 2024\n"
          ]
        }
      ]
    },
    {
      "cell_type": "markdown",
      "source": [
        "4-3. 딕셔너리 안에 리스트"
      ],
      "metadata": {
        "id": "EJvkjh4EMRHC"
      }
    },
    {
      "cell_type": "code",
      "source": [
        "person = {\n",
        "    \"name\": \"영희\",\n",
        "    \"age\": 25,\n",
        "    \"hobbies\": [\"음악\", \"독서\", \"여행\"]\n",
        "}\n",
        "print(person[\"hobbies\"])\n",
        "print(person[\"hobbies\"][0])"
      ],
      "metadata": {
        "colab": {
          "base_uri": "https://localhost:8080/"
        },
        "id": "NGWnt3kfMSg7",
        "outputId": "bd308686-4c2d-453b-d682-69e9fec9057e"
      },
      "execution_count": 30,
      "outputs": [
        {
          "output_type": "stream",
          "name": "stdout",
          "text": [
            "['음악', '독서', '여행']\n",
            "음악\n"
          ]
        }
      ]
    },
    {
      "cell_type": "markdown",
      "source": [
        "4-4. 딕셔너리 안에 리스트 반복문 활용"
      ],
      "metadata": {
        "id": "thIh5Qq9MT0j"
      }
    },
    {
      "cell_type": "code",
      "source": [
        "for hobby in person[\"hobbies\"]:\n",
        "    print(hobby)"
      ],
      "metadata": {
        "colab": {
          "base_uri": "https://localhost:8080/"
        },
        "id": "MlY6AXN4MWQw",
        "outputId": "7bf77b0b-e505-4179-988b-e5550a4cd25f"
      },
      "execution_count": 31,
      "outputs": [
        {
          "output_type": "stream",
          "name": "stdout",
          "text": [
            "음악\n",
            "독서\n",
            "여행\n"
          ]
        }
      ]
    },
    {
      "cell_type": "markdown",
      "source": [
        "1. 차량 기본 정보 딕셔너리"
      ],
      "metadata": {
        "id": "psMDmgsZNKXu"
      }
    },
    {
      "cell_type": "code",
      "source": [
        "vehicle = {\n",
        "    \"id\": \"car001\",\n",
        "    \"type\": \"autonomous\",\n",
        "    \"model\": \"AV-2025\",\n",
        "    \"color\": \"white\"\n",
        "}\n",
        "print(vehicle)"
      ],
      "metadata": {
        "colab": {
          "base_uri": "https://localhost:8080/"
        },
        "id": "Xiv6nH4iNNDi",
        "outputId": "7617be05-b174-43b3-9857-8f3c98a9435f"
      },
      "execution_count": 32,
      "outputs": [
        {
          "output_type": "stream",
          "name": "stdout",
          "text": [
            "{'id': 'car001', 'type': 'autonomous', 'model': 'AV-2025', 'color': 'white'}\n"
          ]
        }
      ]
    },
    {
      "cell_type": "markdown",
      "source": [
        "2. 센서 데이터 딕셔너리"
      ],
      "metadata": {
        "id": "DoF4OhqLNOyc"
      }
    },
    {
      "cell_type": "code",
      "source": [
        "sensor_data = {\n",
        "    \"lidar\": [127.385, 36.351, 2.5],\n",
        "    \"camera\": \"lane_detected\",\n",
        "    \"radar\": {\"front\": 10.2, \"left\": 5.1, \"right\": 7.3},\n",
        "    \"gps\": {\"lat\": 36.351, \"lon\": 127.385}\n",
        "}\n",
        "print(sensor_data)"
      ],
      "metadata": {
        "colab": {
          "base_uri": "https://localhost:8080/"
        },
        "id": "3N1lJBjfNPRl",
        "outputId": "99463fb9-a27f-467a-b075-b5a794cb38bb"
      },
      "execution_count": 33,
      "outputs": [
        {
          "output_type": "stream",
          "name": "stdout",
          "text": [
            "{'lidar': [127.385, 36.351, 2.5], 'camera': 'lane_detected', 'radar': {'front': 10.2, 'left': 5.1, 'right': 7.3}, 'gps': {'lat': 36.351, 'lon': 127.385}}\n"
          ]
        }
      ]
    },
    {
      "cell_type": "markdown",
      "source": [
        "3. 제어 명령 딕셔너리"
      ],
      "metadata": {
        "id": "g-npWKm7NQ7c"
      }
    },
    {
      "cell_type": "code",
      "source": [
        "control_command = {\n",
        "    \"steering\": 15.0,  # 조향각(도)\n",
        "    \"throttle\": 0.7,   # 스로틀(0~1)\n",
        "    \"brake\": 0.0,      # 브레이크(0~1)\n",
        "    \"target_speed\": 40 # 목표 속도(km/h)\n",
        "}\n",
        "print(control_command)"
      ],
      "metadata": {
        "colab": {
          "base_uri": "https://localhost:8080/"
        },
        "id": "hwkVYklONT1-",
        "outputId": "d2519f7e-3d21-4bbf-f6b5-c92d7619ca02"
      },
      "execution_count": 34,
      "outputs": [
        {
          "output_type": "stream",
          "name": "stdout",
          "text": [
            "{'steering': 15.0, 'throttle': 0.7, 'brake': 0.0, 'target_speed': 40}\n"
          ]
        }
      ]
    },
    {
      "cell_type": "markdown",
      "source": [
        "4. 주행 상태 딕셔너리"
      ],
      "metadata": {
        "id": "lau2VoTqNU_R"
      }
    },
    {
      "cell_type": "code",
      "source": [
        "driving_status = {\n",
        "    \"mode\": \"autonomous\",\n",
        "    \"speed\": 35,\n",
        "    \"location\": {\"lat\": 36.351, \"lon\": 127.385},\n",
        "    \"timestamp\": \"2025-06-26T12:00:00\"\n",
        "}\n",
        "print(driving_status)"
      ],
      "metadata": {
        "colab": {
          "base_uri": "https://localhost:8080/"
        },
        "id": "z9GunXk_NWHC",
        "outputId": "0b77fa09-de14-4750-91b9-329e5b1fc31b"
      },
      "execution_count": 35,
      "outputs": [
        {
          "output_type": "stream",
          "name": "stdout",
          "text": [
            "{'mode': 'autonomous', 'speed': 35, 'location': {'lat': 36.351, 'lon': 127.385}, 'timestamp': '2025-06-26T12:00:00'}\n"
          ]
        }
      ]
    },
    {
      "cell_type": "markdown",
      "source": [
        "5. 장애물 정보 딕셔너리"
      ],
      "metadata": {
        "id": "vMCbLY6HNX4i"
      }
    },
    {
      "cell_type": "code",
      "source": [
        "obstacle = {\n",
        "    \"id\": \"obs001\",\n",
        "    \"type\": \"pedestrian\",\n",
        "    \"distance\": 8.5,    # 차량과의 거리(m)\n",
        "    \"direction\": \"front\",\n",
        "    \"position\": {\"lat\": 36.3512, \"lon\": 127.3851}\n",
        "}\n",
        "print(obstacle)"
      ],
      "metadata": {
        "colab": {
          "base_uri": "https://localhost:8080/"
        },
        "id": "5BTdv4V3NZKZ",
        "outputId": "b57dfc90-1603-4a17-cd68-68a775c81622"
      },
      "execution_count": 36,
      "outputs": [
        {
          "output_type": "stream",
          "name": "stdout",
          "text": [
            "{'id': 'obs001', 'type': 'pedestrian', 'distance': 8.5, 'direction': 'front', 'position': {'lat': 36.3512, 'lon': 127.3851}}\n"
          ]
        }
      ]
    }
  ]
}