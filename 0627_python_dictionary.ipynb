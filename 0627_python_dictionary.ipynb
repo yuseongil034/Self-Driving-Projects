{
  "nbformat": 4,
  "nbformat_minor": 0,
  "metadata": {
    "colab": {
      "provenance": [],
      "authorship_tag": "ABX9TyOUL7O/aNxXtj/2+4fsoqrA",
      "include_colab_link": true
    },
    "kernelspec": {
      "name": "python3",
      "display_name": "Python 3"
    },
    "language_info": {
      "name": "python"
    }
  },
  "cells": [
    {
      "cell_type": "markdown",
      "metadata": {
        "id": "view-in-github",
        "colab_type": "text"
      },
      "source": [
        "<a href=\"https://colab.research.google.com/github/yuseongil034/yuseongil/blob/main/0627_python_dictionary.ipynb\" target=\"_parent\"><img src=\"https://colab.research.google.com/assets/colab-badge.svg\" alt=\"Open In Colab\"/></a>"
      ]
    },
    {
      "cell_type": "markdown",
      "source": [
        "1. 딕셔너리란?\n",
        "딕셔너리(Dictionary)는 키(key)와 값(value) 쌍으로 데이터를 저장하는 자료형입니다.\n",
        "\n",
        "순서가 없으며, 키를 통해 값을 빠르게 찾을 수 있습니다.\n",
        "\n",
        "중괄호 {}와 콜론 :을 사용합니다.\n",
        "\n",
        "python"
      ],
      "metadata": {
        "id": "ZEmVm5IIKmut"
      }
    },
    {
      "cell_type": "code",
      "source": [
        "my_dict = {\n",
        "    \"name\": \"철수\",\n",
        "    \"age\": 20,\n",
        "    \"city\": \"서울\"\n",
        "}\n",
        "print(my_dict)"
      ],
      "metadata": {
        "colab": {
          "base_uri": "https://localhost:8080/"
        },
        "id": "igsn6waiLVzd",
        "outputId": "082996bd-b732-4b60-8ec0-ceeb1af7d088"
      },
      "execution_count": null,
      "outputs": [
        {
          "output_type": "stream",
          "name": "stdout",
          "text": [
            "{'name': '철수', 'age': 20, 'city': '서울'}\n"
          ]
        }
      ]
    },
    {
      "cell_type": "markdown",
      "source": [
        "2. 딕셔너리 기본 사용법\n",
        "2-1. 딕셔너리 생성"
      ],
      "metadata": {
        "id": "c8IADa7SLZKW"
      }
    },
    {
      "cell_type": "code",
      "source": [
        "car = {\n",
        "    \"brand\": \"현대\",\n",
        "    \"model\": \"아반떼\",\n",
        "    \"year\": 2023\n",
        "}\n",
        "print(car)"
      ],
      "metadata": {
        "colab": {
          "base_uri": "https://localhost:8080/"
        },
        "id": "rvILCvJyLaZg",
        "outputId": "97bde900-2dab-4796-94b8-a1ea9cbc58ab"
      },
      "execution_count": null,
      "outputs": [
        {
          "output_type": "stream",
          "name": "stdout",
          "text": [
            "{'brand': '현대', 'model': '아반떼', 'year': 2023}\n"
          ]
        }
      ]
    },
    {
      "cell_type": "markdown",
      "source": [
        "2-2. 값 접근"
      ],
      "metadata": {
        "id": "PYLODVrmLcW3"
      }
    },
    {
      "cell_type": "code",
      "source": [
        "print(car[\"brand\"])\n",
        "print(car[\"model\"])"
      ],
      "metadata": {
        "colab": {
          "base_uri": "https://localhost:8080/"
        },
        "id": "vVZkHtr6LgyZ",
        "outputId": "c97a66c2-e4d0-4cda-bf1d-bbf8e730aad1"
      },
      "execution_count": null,
      "outputs": [
        {
          "output_type": "stream",
          "name": "stdout",
          "text": [
            "현대\n",
            "아반떼\n"
          ]
        }
      ]
    },
    {
      "cell_type": "markdown",
      "source": [
        "2-3. 값 추가/수정"
      ],
      "metadata": {
        "id": "R2Ze-6QLLjoR"
      }
    },
    {
      "cell_type": "code",
      "source": [
        "car[\"color\"] = \"흰색\"  # 추가\n",
        "car[\"year\"] = 2024    # 수정\n",
        "print(car)"
      ],
      "metadata": {
        "colab": {
          "base_uri": "https://localhost:8080/"
        },
        "id": "oK5StVzGLlyr",
        "outputId": "2ba81f20-20a8-4a6d-9fd7-a144af4d6ba8"
      },
      "execution_count": null,
      "outputs": [
        {
          "output_type": "stream",
          "name": "stdout",
          "text": [
            "{'brand': '현대', 'model': '아반떼', 'year': 2024, 'color': '흰색'}\n"
          ]
        }
      ]
    },
    {
      "cell_type": "markdown",
      "source": [
        "2-4. 값 삭제"
      ],
      "metadata": {
        "id": "rm5OjscgLnMP"
      }
    },
    {
      "cell_type": "code",
      "source": [
        "del car[\"color\"]\n",
        "print(car)"
      ],
      "metadata": {
        "colab": {
          "base_uri": "https://localhost:8080/"
        },
        "id": "_fqhcmMtLoX-",
        "outputId": "f686a39f-bde2-48de-ef6b-a19e9817af57"
      },
      "execution_count": null,
      "outputs": [
        {
          "output_type": "stream",
          "name": "stdout",
          "text": [
            "{'brand': '현대', 'model': '아반떼', 'year': 2024}\n"
          ]
        }
      ]
    },
    {
      "cell_type": "markdown",
      "source": [
        "3. 딕셔너리 반복문 활용"
      ],
      "metadata": {
        "id": "8pQDMxsGL3NP"
      }
    },
    {
      "cell_type": "markdown",
      "source": [
        "\n",
        "3-1. 키만 반복"
      ],
      "metadata": {
        "id": "iF-66Y93LqCA"
      }
    },
    {
      "cell_type": "code",
      "source": [
        "for key in car:\n",
        "    print(key)"
      ],
      "metadata": {
        "colab": {
          "base_uri": "https://localhost:8080/"
        },
        "id": "M7Ascw1fLrnc",
        "outputId": "0ce75892-64f4-401d-9934-27bad01b8a11"
      },
      "execution_count": null,
      "outputs": [
        {
          "output_type": "stream",
          "name": "stdout",
          "text": [
            "brand\n",
            "model\n",
            "year\n"
          ]
        }
      ]
    },
    {
      "cell_type": "markdown",
      "source": [
        "3-2. 값만 반복"
      ],
      "metadata": {
        "id": "zmhodi2ELtd5"
      }
    },
    {
      "cell_type": "code",
      "source": [
        "for value in car.values():\n",
        "    print(value)"
      ],
      "metadata": {
        "colab": {
          "base_uri": "https://localhost:8080/"
        },
        "id": "zbbafcTSL8eq",
        "outputId": "57734cba-ba70-4ee2-ac65-693743591f15"
      },
      "execution_count": null,
      "outputs": [
        {
          "output_type": "stream",
          "name": "stdout",
          "text": [
            "현대\n",
            "아반떼\n",
            "2024\n"
          ]
        }
      ]
    },
    {
      "cell_type": "markdown",
      "source": [
        "3-3. 키와 값 모두 반복"
      ],
      "metadata": {
        "id": "oEqHSvxTL97A"
      }
    },
    {
      "cell_type": "code",
      "source": [
        "for key, value in car.items():\n",
        "    print(key, \":\", value)"
      ],
      "metadata": {
        "colab": {
          "base_uri": "https://localhost:8080/"
        },
        "id": "QKH9bxf2L_1I",
        "outputId": "bd4c5d7f-8d27-4b06-fc4c-1d587d4c7c77"
      },
      "execution_count": null,
      "outputs": [
        {
          "output_type": "stream",
          "name": "stdout",
          "text": [
            "brand : 현대\n",
            "model : 아반떼\n",
            "year : 2024\n"
          ]
        }
      ]
    },
    {
      "cell_type": "markdown",
      "source": [
        "4. 딕셔너리와 리스트 결합 활용"
      ],
      "metadata": {
        "id": "SYidvEzEMFr4"
      }
    },
    {
      "cell_type": "markdown",
      "source": [
        "4-1. 리스트 안에 딕셔너리"
      ],
      "metadata": {
        "id": "52yBPZ_uMHDD"
      }
    },
    {
      "cell_type": "code",
      "source": [
        "cars = [\n",
        "    {\"brand\": \"현대\", \"model\": \"아반떼\", \"year\": 2023},\n",
        "    {\"brand\": \"기아\", \"model\": \"K5\", \"year\": 2022},\n",
        "    {\"brand\": \"테슬라\", \"model\": \"Model 3\", \"year\": 2024}\n",
        "]\n",
        "print(cars)"
      ],
      "metadata": {
        "colab": {
          "base_uri": "https://localhost:8080/"
        },
        "id": "is8LAOBsMKty",
        "outputId": "bc8e18bd-71ba-48dc-eb24-884e3f2577e2"
      },
      "execution_count": null,
      "outputs": [
        {
          "output_type": "stream",
          "name": "stdout",
          "text": [
            "[{'brand': '현대', 'model': '아반떼', 'year': 2023}, {'brand': '기아', 'model': 'K5', 'year': 2022}, {'brand': '테슬라', 'model': 'Model 3', 'year': 2024}]\n"
          ]
        }
      ]
    },
    {
      "cell_type": "markdown",
      "source": [
        "4-2. 리스트와 딕셔너리 반복문 활용"
      ],
      "metadata": {
        "id": "kdqhm8U7MMqx"
      }
    },
    {
      "cell_type": "code",
      "source": [
        "for car in cars:\n",
        "    print(car[\"brand\"], car[\"model\"], car[\"year\"])"
      ],
      "metadata": {
        "colab": {
          "base_uri": "https://localhost:8080/"
        },
        "id": "3nGS1jpXMOuE",
        "outputId": "9ad6a1db-7797-4359-b76e-03b777bf32a6"
      },
      "execution_count": null,
      "outputs": [
        {
          "output_type": "stream",
          "name": "stdout",
          "text": [
            "현대 아반떼 2023\n",
            "기아 K5 2022\n",
            "테슬라 Model 3 2024\n"
          ]
        }
      ]
    },
    {
      "cell_type": "markdown",
      "source": [
        "4-3. 딕셔너리 안에 리스트"
      ],
      "metadata": {
        "id": "EJvkjh4EMRHC"
      }
    },
    {
      "cell_type": "code",
      "source": [
        "person = {\n",
        "    \"name\": \"영희\",\n",
        "    \"age\": 25,\n",
        "    \"hobbies\": [\"음악\", \"독서\", \"여행\"]\n",
        "}\n",
        "print(person[\"hobbies\"])\n",
        "print(person[\"hobbies\"][0])"
      ],
      "metadata": {
        "colab": {
          "base_uri": "https://localhost:8080/"
        },
        "id": "NGWnt3kfMSg7",
        "outputId": "8e912a44-ac6a-498c-c26e-3715afcad211"
      },
      "execution_count": null,
      "outputs": [
        {
          "output_type": "stream",
          "name": "stdout",
          "text": [
            "['음악', '독서', '여행']\n",
            "음악\n"
          ]
        }
      ]
    },
    {
      "cell_type": "markdown",
      "source": [
        "4-4. 딕셔너리 안에 리스트 반복문 활용"
      ],
      "metadata": {
        "id": "thIh5Qq9MT0j"
      }
    },
    {
      "cell_type": "code",
      "source": [
        "for hobby in person[\"hobbies\"]:\n",
        "    print(hobby)"
      ],
      "metadata": {
        "colab": {
          "base_uri": "https://localhost:8080/"
        },
        "id": "MlY6AXN4MWQw",
        "outputId": "b7869211-d998-48f8-ea41-f46fb53d7c43"
      },
      "execution_count": null,
      "outputs": [
        {
          "output_type": "stream",
          "name": "stdout",
          "text": [
            "음악\n",
            "독서\n",
            "여행\n"
          ]
        }
      ]
    },
    {
      "cell_type": "markdown",
      "source": [
        "1. 차량 기본 정보 딕셔너리"
      ],
      "metadata": {
        "id": "psMDmgsZNKXu"
      }
    },
    {
      "cell_type": "code",
      "source": [
        "vehicle = {\n",
        "    \"id\": \"car001\",\n",
        "    \"type\": \"autonomous\",\n",
        "    \"model\": \"AV-2025\",\n",
        "    \"color\": \"white\"\n",
        "}\n",
        "print(vehicle)"
      ],
      "metadata": {
        "colab": {
          "base_uri": "https://localhost:8080/"
        },
        "id": "Xiv6nH4iNNDi",
        "outputId": "4767668c-b6cb-4e1d-b931-f0da6f72c99e"
      },
      "execution_count": null,
      "outputs": [
        {
          "output_type": "stream",
          "name": "stdout",
          "text": [
            "{'id': 'car001', 'type': 'autonomous', 'model': 'AV-2025', 'color': 'white'}\n"
          ]
        }
      ]
    },
    {
      "cell_type": "markdown",
      "source": [
        "2. 센서 데이터 딕셔너리"
      ],
      "metadata": {
        "id": "DoF4OhqLNOyc"
      }
    },
    {
      "cell_type": "code",
      "source": [
        "sensor_data = {\n",
        "    \"lidar\": [127.385, 36.351, 2.5],\n",
        "    \"camera\": \"lane_detected\",\n",
        "    \"radar\": {\"front\": 10.2, \"left\": 5.1, \"right\": 7.3},\n",
        "    \"gps\": {\"lat\": 36.351, \"lon\": 127.385}\n",
        "}\n",
        "print(sensor_data)"
      ],
      "metadata": {
        "colab": {
          "base_uri": "https://localhost:8080/"
        },
        "id": "3N1lJBjfNPRl",
        "outputId": "aa04466e-cb31-4398-8687-a8f45be74250"
      },
      "execution_count": null,
      "outputs": [
        {
          "output_type": "stream",
          "name": "stdout",
          "text": [
            "{'lidar': [127.385, 36.351, 2.5], 'camera': 'lane_detected', 'radar': {'front': 10.2, 'left': 5.1, 'right': 7.3}, 'gps': {'lat': 36.351, 'lon': 127.385}}\n"
          ]
        }
      ]
    },
    {
      "cell_type": "markdown",
      "source": [
        "3. 제어 명령 딕셔너리"
      ],
      "metadata": {
        "id": "g-npWKm7NQ7c"
      }
    },
    {
      "cell_type": "code",
      "source": [
        "control_command = {\n",
        "    \"steering\": 15.0,  # 조향각(도)\n",
        "    \"throttle\": 0.7,   # 스로틀(0~1)\n",
        "    \"brake\": 0.0,      # 브레이크(0~1)\n",
        "    \"target_speed\": 40 # 목표 속도(km/h)\n",
        "}\n",
        "print(control_command)"
      ],
      "metadata": {
        "colab": {
          "base_uri": "https://localhost:8080/"
        },
        "id": "hwkVYklONT1-",
        "outputId": "361d857f-a906-4f1d-d162-3ad0f7d9b686"
      },
      "execution_count": null,
      "outputs": [
        {
          "output_type": "stream",
          "name": "stdout",
          "text": [
            "{'steering': 15.0, 'throttle': 0.7, 'brake': 0.0, 'target_speed': 40}\n"
          ]
        }
      ]
    },
    {
      "cell_type": "markdown",
      "source": [
        "4. 주행 상태 딕셔너리"
      ],
      "metadata": {
        "id": "lau2VoTqNU_R"
      }
    },
    {
      "cell_type": "code",
      "source": [
        "driving_status = {\n",
        "    \"mode\": \"autonomous\",\n",
        "    \"speed\": 35,\n",
        "    \"location\": {\"lat\": 36.351, \"lon\": 127.385},\n",
        "    \"timestamp\": \"2025-06-26T12:00:00\"\n",
        "}\n",
        "print(driving_status)"
      ],
      "metadata": {
        "colab": {
          "base_uri": "https://localhost:8080/"
        },
        "id": "z9GunXk_NWHC",
        "outputId": "677c9fd3-18fa-4e53-9ac2-ff1d9dd2885b"
      },
      "execution_count": null,
      "outputs": [
        {
          "output_type": "stream",
          "name": "stdout",
          "text": [
            "{'mode': 'autonomous', 'speed': 35, 'location': {'lat': 36.351, 'lon': 127.385}, 'timestamp': '2025-06-26T12:00:00'}\n"
          ]
        }
      ]
    },
    {
      "cell_type": "markdown",
      "source": [
        "5. 장애물 정보 딕셔너리"
      ],
      "metadata": {
        "id": "vMCbLY6HNX4i"
      }
    },
    {
      "cell_type": "code",
      "source": [
        "obstacle = {\n",
        "    \"id\": \"obs001\",\n",
        "    \"type\": \"pedestrian\",\n",
        "    \"distance\": 8.5,    # 차량과의 거리(m)\n",
        "    \"direction\": \"front\",\n",
        "    \"position\": {\"lat\": 36.3512, \"lon\": 127.3851}\n",
        "}\n",
        "print(obstacle)"
      ],
      "metadata": {
        "colab": {
          "base_uri": "https://localhost:8080/"
        },
        "id": "5BTdv4V3NZKZ",
        "outputId": "7c5cc01c-921e-423c-fdc6-780a0d84e647"
      },
      "execution_count": null,
      "outputs": [
        {
          "output_type": "stream",
          "name": "stdout",
          "text": [
            "{'id': 'obs001', 'type': 'pedestrian', 'distance': 8.5, 'direction': 'front', 'position': {'lat': 36.3512, 'lon': 127.3851}}\n"
          ]
        }
      ]
    },
    {
      "cell_type": "markdown",
      "source": [
        "1. 센서 데이터 : 각 센서별 감지 거리 저장"
      ],
      "metadata": {
        "id": "3QyBUIAK7IwG"
      }
    },
    {
      "cell_type": "code",
      "source": [
        "# 1단계: 빈 센서 데이터 딕셔너리 생성\n",
        "sensor_data = {}\n",
        "# 2단계: 카메라 센서 데이터 추가\n",
        "sensor_data['camera;'] = 8.5\n",
        "# 3단계: 라이다 센서 데이터 추가\n",
        "sensor_data['lidar']=12.3\n",
        "# 최종 결과\n",
        "print(sensor_data)"
      ],
      "metadata": {
        "colab": {
          "base_uri": "https://localhost:8080/"
        },
        "id": "SiQR7tF67MAl",
        "outputId": "3cd06d60-2f5c-4d77-cca5-d290af144f5f"
      },
      "execution_count": 18,
      "outputs": [
        {
          "output_type": "stream",
          "name": "stdout",
          "text": [
            "{'camera;': 8.5, 'lidar': 12.3}\n"
          ]
        }
      ]
    },
    {
      "cell_type": "markdown",
      "source": [
        "2. 경로계획 : 목적지별 거리 정보 관리"
      ],
      "metadata": {
        "id": "k5nMe-cQ8DfC"
      }
    },
    {
      "cell_type": "code",
      "source": [
        "# 2. 경로 계획 - 목적지별 거리 정보\n",
        "destinations = ['집','회사','마트','주유소']\n",
        "distances_km = [0, 15, 8, 22]\n",
        "\n",
        "route_plan = {}\n",
        "route_plan['집'] = 0\n",
        "route_plan['회사'] = 15\n",
        "route_plan['마트'] = 8\n",
        "route_plan['주유소'] = 12\n",
        "\n",
        "print(\"목적지별 거리:\", route_plan)"
      ],
      "metadata": {
        "colab": {
          "base_uri": "https://localhost:8080/"
        },
        "id": "HaIQwHWI8H89",
        "outputId": "7999f544-07d7-410d-a64e-3abc062f17d4"
      },
      "execution_count": 22,
      "outputs": [
        {
          "output_type": "stream",
          "name": "stdout",
          "text": [
            "목적지별 거리: {'집': 0, '회사': 15, '마트': 8, '주유소': 12}\n"
          ]
        }
      ]
    },
    {
      "cell_type": "markdown",
      "source": [
        "3. 차량 점검 : 부품별 상태확인"
      ],
      "metadata": {
        "id": "kIcx__kn9XC9"
      }
    },
    {
      "cell_type": "code",
      "source": [
        "vehicle_parts = ['엔진','브레이크','타이어','배터리']\n",
        "status_codes = ['정상','정상','교체필요','정상']\n",
        "\n",
        "vehicle_status = {}\n",
        "vehicle_status['엔진'] = '정상'\n",
        "vehicle_status['브레이크'] = '정상'\n",
        "vehicle_status['타이어'] = '교체필요'\n",
        "vehicle_status['배터리'] = '정상'\n",
        "\n",
        "print('차량 상태 :', vehicle_status)"
      ],
      "metadata": {
        "colab": {
          "base_uri": "https://localhost:8080/"
        },
        "id": "_pRXDw7h9ber",
        "outputId": "e01bbf1b-637c-49e8-a800-deae0f0d25b7"
      },
      "execution_count": 24,
      "outputs": [
        {
          "output_type": "stream",
          "name": "stdout",
          "text": [
            "차량 상태 : {'엔진': '정상', '브레이크': '정상', '타이어': '교체필요', '배터리': '정상'}\n"
          ]
        }
      ]
    },
    {
      "cell_type": "markdown",
      "source": [
        "4. 신호등 : 교차로별 현재 신호 상태"
      ],
      "metadata": {
        "id": "GRNJtR0S-PQA"
      }
    },
    {
      "cell_type": "code",
      "source": [
        "# 4. 신호등 정보 관리\n",
        "inttersections = ['서울역', '강남역', '홍대입구']\n",
        "light_color = ['빨강', '초록', '노랑']\n",
        "\n",
        "traffic_lights = {}\n",
        "traffic_lights['서울역'] = '빨강'\n",
        "traffic_lights['강남역'] = '초록'\n",
        "traffic_lights['홍대입구'] = '노랑'\n",
        "print(\"교차로 신호등 :\", traffic_lights)"
      ],
      "metadata": {
        "colab": {
          "base_uri": "https://localhost:8080/"
        },
        "id": "7t8xoOZ8_RFu",
        "outputId": "feb60238-597f-413d-8a49-51d8840edbdd"
      },
      "execution_count": 29,
      "outputs": [
        {
          "output_type": "stream",
          "name": "stdout",
          "text": [
            "교차로 신호등 : {'서울역': '빨강', '강남역': '초록', '홍대입구': '노랑'}\n"
          ]
        }
      ]
    },
    {
      "cell_type": "markdown",
      "source": [
        "5.주차장 : 구역별 빈자리 개수"
      ],
      "metadata": {
        "id": "IFJlk3xj_qNG"
      }
    },
    {
      "cell_type": "code",
      "source": [
        "# 5. 주차장 정보\n",
        "parking_zones = ['A구역','B구역','C구역','D구역']\n",
        "empty_spots = [5, 0, 12, 3]\n",
        "\n",
        "parking_info = {}\n",
        "parking_info['A구역'] = 5\n",
        "parking_info['B구역'] = 0\n",
        "parking_info['C구역'] = 12\n",
        "parking_info['D구역'] = 3\n",
        "\n",
        "print(\"주차장 빈자리 :\", parking_info)"
      ],
      "metadata": {
        "colab": {
          "base_uri": "https://localhost:8080/"
        },
        "id": "3Qlsd6Cf_uYg",
        "outputId": "34c55e49-1f9a-4c18-c699-0f0af7d84255"
      },
      "execution_count": 32,
      "outputs": [
        {
          "output_type": "stream",
          "name": "stdout",
          "text": [
            "주차장 빈자리 : {'A구역': 5, 'B구역': 0, 'C구역': 12, 'D구역': 3}\n"
          ]
        }
      ]
    }
  ]
}