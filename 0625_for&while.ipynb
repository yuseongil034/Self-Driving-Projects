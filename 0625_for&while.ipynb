{
  "cells": [
    {
      "cell_type": "markdown",
      "metadata": {
        "id": "view-in-github",
        "colab_type": "text"
      },
      "source": [
        "<a href=\"https://colab.research.google.com/github/yuseongil034/yuseongil/blob/main/0625_for%26while.ipynb\" target=\"_parent\"><img src=\"https://colab.research.google.com/assets/colab-badge.svg\" alt=\"Open In Colab\"/></a>"
      ]
    },
    {
      "cell_type": "markdown",
      "source": [
        "1. 리스트 반복 (기본 for문)"
      ],
      "metadata": {
        "id": "YA5s1pPR4dgu"
      }
    },
    {
      "cell_type": "code",
      "source": [
        "fruits = [\"apple\", \"banana\", \"cherry\"]\n",
        "for x in fruits:\n",
        "    print(x)"
      ],
      "metadata": {
        "id": "BHoHs3iz4hHj"
      },
      "execution_count": null,
      "outputs": []
    },
    {
      "cell_type": "markdown",
      "source": [
        "2. 문자열 반복"
      ],
      "metadata": {
        "id": "dImyz_Pw4_Le"
      }
    },
    {
      "cell_type": "code",
      "source": [
        "for x in \"banana\":\n",
        "    print(x)"
      ],
      "metadata": {
        "id": "7Lw_Dw1c5Chf"
      },
      "execution_count": null,
      "outputs": []
    },
    {
      "cell_type": "markdown",
      "source": [
        "3. break문 사용"
      ],
      "metadata": {
        "id": "6oqYHXJy5EOe"
      }
    },
    {
      "cell_type": "code",
      "source": [
        "fruits = [\"apple\", \"banana\", \"cherry\"]\n",
        "for x in fruits:\n",
        "    print(x)\n",
        "    if x == \"banana\":\n",
        "        break"
      ],
      "metadata": {
        "id": "cSu6b3b35Fn8"
      },
      "execution_count": null,
      "outputs": []
    },
    {
      "cell_type": "markdown",
      "source": [
        "4. 인덱스로 리스트 반복"
      ],
      "metadata": {
        "id": "9uaOHccY5Jmq"
      }
    },
    {
      "cell_type": "code",
      "source": [
        "thislist = [\"apple\", \"banana\", \"cherry\"]\n",
        "for i in range(len(thislist)):\n",
        "    print(thislist[i])"
      ],
      "metadata": {
        "id": "bhtX_3Gt5K9J"
      },
      "execution_count": null,
      "outputs": []
    },
    {
      "cell_type": "markdown",
      "source": [
        "5. 리스트 컴프리헨션 (간단한 반복)"
      ],
      "metadata": {
        "id": "jkqzGNDo5cY5"
      }
    },
    {
      "cell_type": "code",
      "source": [
        "thislist = [\"apple\", \"banana\", \"cherry\"]\n",
        "[print(x) for x in thislist]"
      ],
      "metadata": {
        "id": "A3FZVGTM5gHA"
      },
      "execution_count": null,
      "outputs": []
    },
    {
      "cell_type": "markdown",
      "source": [
        "1. 기본 while문"
      ],
      "metadata": {
        "id": "i-IMQ_6u5j0s"
      }
    },
    {
      "cell_type": "code",
      "source": [
        "i = 1\n",
        "while i < 6:\n",
        "    print(i)\n",
        "    i += 1"
      ],
      "metadata": {
        "id": "YaTO08cD5kma"
      },
      "execution_count": null,
      "outputs": []
    },
    {
      "cell_type": "markdown",
      "source": [
        "2. break로 반복문 탈출"
      ],
      "metadata": {
        "id": "c0yyAy1q5pIX"
      }
    },
    {
      "cell_type": "code",
      "source": [
        "i = 1\n",
        "while i < 6:\n",
        "    print(i)\n",
        "    if i == 3:\n",
        "        break\n",
        "    i += 1"
      ],
      "metadata": {
        "id": "btr-mQMS5rJK"
      },
      "execution_count": null,
      "outputs": []
    },
    {
      "cell_type": "markdown",
      "source": [
        "3. continue로 현재 반복 건너뛰기"
      ],
      "metadata": {
        "id": "8SXRq0465sc5"
      }
    },
    {
      "cell_type": "code",
      "source": [
        "i = 0\n",
        "while i < 6:\n",
        "    i += 1\n",
        "    if i == 3:\n",
        "        continue\n",
        "    print(i)"
      ],
      "metadata": {
        "id": "j24AWu_i5stm"
      },
      "execution_count": null,
      "outputs": []
    },
    {
      "cell_type": "markdown",
      "source": [
        "4. else로 반복문 종료 후 처리"
      ],
      "metadata": {
        "id": "a_dOS8oW5w-9"
      }
    },
    {
      "cell_type": "code",
      "source": [
        "i = 1\n",
        "while i < 6:\n",
        "    print(i)\n",
        "    i += 1\n",
        "else:\n",
        "    print(\"i는 더 이상 6보다 작지 않습니다.\")"
      ],
      "metadata": {
        "id": "hikidUPa5xQI"
      },
      "execution_count": null,
      "outputs": []
    },
    {
      "cell_type": "markdown",
      "source": [
        "5. 무한 반복과 사용자 입력 활용"
      ],
      "metadata": {
        "id": "JXK9ZS2S50ap"
      }
    },
    {
      "cell_type": "code",
      "source": [
        "while True:\n",
        "    name = input(\"이름 입력 >> \")\n",
        "    if name == \"최성우\":\n",
        "        print(f\"{name} 멋지다!\")\n",
        "        break\n",
        "    else:\n",
        "        print(f\"{name} 최고!\")"
      ],
      "metadata": {
        "id": "jmJgzX6O505E"
      },
      "execution_count": null,
      "outputs": []
    },
    {
      "cell_type": "markdown",
      "source": [
        "구간별 전진 시뮬레이션"
      ],
      "metadata": {
        "id": "tgv2Kiz76C_g"
      }
    },
    {
      "cell_type": "code",
      "source": [
        "# 5개의 구간을 순차적으로 전진\n",
        "for step in range(5):\n",
        "    print(f\"구간 {step+1} 전진 중...\")"
      ],
      "metadata": {
        "id": "fU8wuomQ6DOv"
      },
      "execution_count": null,
      "outputs": []
    },
    {
      "cell_type": "markdown",
      "source": [
        "라인 트래킹(센서 값 시뮬레이션)"
      ],
      "metadata": {
        "id": "5K69QLke6Klx"
      }
    },
    {
      "cell_type": "code",
      "source": [
        "# 가상의 센서 데이터로 라인을 따라감\n",
        "sensor_data = [0, 1, 1, 0, 1, 0, 0, 1]  # 1: 라인 감지, 0: 라인 미감지\n",
        "for i in sensor_data:\n",
        "    if i == 1:\n",
        "        print(\"라인 감지! 전진\")\n",
        "    else:\n",
        "        print(\"라인 미감지! 제자리\")"
      ],
      "metadata": {
        "id": "ze1GxrQL6K_T"
      },
      "execution_count": null,
      "outputs": []
    },
    {
      "cell_type": "markdown",
      "source": [
        "장애물 회피(가상 장애물 배열)"
      ],
      "metadata": {
        "id": "W_7X8NOr6MKJ"
      }
    },
    {
      "cell_type": "code",
      "source": [
        "# 장애물 위치(1: 장애물 있음, 0: 없음)\n",
        "obstacles = [0, 0, 1, 0, 1]\n",
        "for obs in obstacles:\n",
        "    if obs == 1:\n",
        "        print(\"장애물 감지! 우회\")\n",
        "    else:\n",
        "        print(\"전진\")"
      ],
      "metadata": {
        "id": "BPnGvlXb6Nmn"
      },
      "execution_count": null,
      "outputs": []
    },
    {
      "cell_type": "markdown",
      "source": [
        "정해진 횟수만큼 신호등 대기"
      ],
      "metadata": {
        "id": "spMGcwwn6OvZ"
      }
    },
    {
      "cell_type": "code",
      "source": [
        "# 3번 신호등에서 대기\n",
        "for i in range(3):\n",
        "    print(f\"신호등 {i+1}에서 대기...\")"
      ],
      "metadata": {
        "id": "tnFStVtx6Q1y"
      },
      "execution_count": null,
      "outputs": []
    },
    {
      "cell_type": "markdown",
      "source": [
        "주행 경로 순회(좌표 리스트)"
      ],
      "metadata": {
        "id": "6lpBuo-A6SH2"
      }
    },
    {
      "cell_type": "code",
      "source": [
        "# 가상의 좌표 리스트를 따라 이동\n",
        "path = [(0,0), (1,2), (3,4), (5,6)]\n",
        "for x, y in path:\n",
        "    print(f\"좌표 ({x},{y})로 이동\")"
      ],
      "metadata": {
        "id": "VJQ1MOqI6Sdk"
      },
      "execution_count": null,
      "outputs": []
    },
    {
      "cell_type": "markdown",
      "source": [
        "무한 주행(수동 종료)"
      ],
      "metadata": {
        "id": "ybebjcxd6VOL"
      }
    },
    {
      "cell_type": "code",
      "source": [
        "# 무한히 주행, 사용자가 중지(여기서는 5번만 실행)\n",
        "count = 0\n",
        "while count < 5:\n",
        "    print(\"주행 중...\")\n",
        "    count += 1"
      ],
      "metadata": {
        "id": "YMxkOd5b6VtE"
      },
      "execution_count": null,
      "outputs": []
    },
    {
      "cell_type": "markdown",
      "source": [
        "벽 감지 시 정지(가상 벽 감지)"
      ],
      "metadata": {
        "id": "lqmfAaA36XCH"
      }
    },
    {
      "cell_type": "code",
      "source": [
        "# 벽 감지(0: 벽 없음, 1: 벽 있음)\n",
        "wall_detected = 0\n",
        "while wall_detected == 0:\n",
        "    print(\"전진 중...\")\n",
        "    wall_detected = int(input(\"벽 감지? (0: 계속, 1: 정지): \"))\n",
        "print(\"벽 감지! 정지\")"
      ],
      "metadata": {
        "id": "t0eUzBxq6X3l"
      },
      "execution_count": null,
      "outputs": []
    },
    {
      "cell_type": "markdown",
      "source": [
        "신호등 대기(신호 바뀔 때까지)"
      ],
      "metadata": {
        "id": "Yz9Jz3IN6Ype"
      }
    },
    {
      "cell_type": "code",
      "source": [
        "# 신호등이 0(빨강)일 때 대기, 1(초록)이 되면 출발\n",
        "signal = 0\n",
        "while signal == 0:\n",
        "    print(\"신호등 대기 중...\")\n",
        "    signal = int(input(\"신호등 상태 입력 (0: 빨강, 1: 초록): \"))\n",
        "print(\"출발!\")"
      ],
      "metadata": {
        "id": "wLohw90k6bkw"
      },
      "execution_count": null,
      "outputs": []
    },
    {
      "cell_type": "markdown",
      "source": [
        "주행 거리 도달 시 정지"
      ],
      "metadata": {
        "id": "9kD7P2Cy6dYv"
      }
    },
    {
      "cell_type": "code",
      "source": [
        "# 10미터 주행 후 정지\n",
        "distance = 0\n",
        "while distance < 10:\n",
        "    print(f\"주행 중... 현재 거리: {distance}m\")\n",
        "    distance += 1\n",
        "print(\"목표 거리 도달! 정지\")"
      ],
      "metadata": {
        "id": "8RmkTK5W6ekN"
      },
      "execution_count": null,
      "outputs": []
    },
    {
      "cell_type": "markdown",
      "source": [
        "장애물 회피(무한 반복, 조건부 종료)"
      ],
      "metadata": {
        "id": "_jJI7Og56gE5"
      }
    },
    {
      "cell_type": "code",
      "source": [
        "# 장애물 감지 시 계속 회피, 3번 회피 후 종료\n",
        "avoid_count = 0\n",
        "while avoid_count < 3:\n",
        "    print(\"전진 중...\")\n",
        "    obstacle = int(input(\"장애물 감지? (0: 없음, 1: 있음): \"))\n",
        "    if obstacle == 1:\n",
        "        print(\"장애물 감지! 우회\")\n",
        "        avoid_count += 1\n",
        "print(\"3번 회피 완료! 주행 종료\")"
      ],
      "metadata": {
        "id": "x3h51IVt6gax"
      },
      "execution_count": null,
      "outputs": []
    }
  ],
  "metadata": {
    "colab": {
      "provenance": [],
      "include_colab_link": true
    },
    "kernelspec": {
      "display_name": "Python 3",
      "name": "python3"
    }
  },
  "nbformat": 4,
  "nbformat_minor": 0
}