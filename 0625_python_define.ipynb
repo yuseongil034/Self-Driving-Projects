{
  "nbformat": 4,
  "nbformat_minor": 0,
  "metadata": {
    "colab": {
      "provenance": [],
      "authorship_tag": "ABX9TyOJHz3E1xggGYhQlV3p33jL",
      "include_colab_link": true
    },
    "kernelspec": {
      "name": "python3",
      "display_name": "Python 3"
    },
    "language_info": {
      "name": "python"
    }
  },
  "cells": [
    {
      "cell_type": "markdown",
      "metadata": {
        "id": "view-in-github",
        "colab_type": "text"
      },
      "source": [
        "<a href=\"https://colab.research.google.com/github/yuseongil034/yuseongil/blob/main/0625_python_define.ipynb\" target=\"_parent\"><img src=\"https://colab.research.google.com/assets/colab-badge.svg\" alt=\"Open In Colab\"/></a>"
      ]
    },
    {
      "cell_type": "markdown",
      "source": [
        "함수 정의와 호출"
      ],
      "metadata": {
        "id": "EzERl_jBq2N1"
      }
    },
    {
      "cell_type": "code",
      "source": [
        "def greet():\n",
        "    print(\"안녕하세요!\")\n",
        "\n",
        "greet()"
      ],
      "metadata": {
        "id": "sYnluy3aq0j-"
      },
      "execution_count": null,
      "outputs": []
    },
    {
      "cell_type": "markdown",
      "source": [
        "인자(Parameter)"
      ],
      "metadata": {
        "id": "IR1ceqhEsrAk"
      }
    },
    {
      "cell_type": "code",
      "source": [
        "def greet_name(name):  # 'name'은 인자(Parameter)\n",
        "    print(f\"안녕하세요, {name}님!\")\n",
        "\n",
        "greet_name(\"철수\")"
      ],
      "metadata": {
        "id": "jLi7t6bOsqFJ"
      },
      "execution_count": null,
      "outputs": []
    },
    {
      "cell_type": "markdown",
      "source": [
        "여러 인자"
      ],
      "metadata": {
        "id": "Q0eqLcoUsyg2"
      }
    },
    {
      "cell_type": "code",
      "source": [
        "def add(a, b):  # a, b는 인자(Parameter)\n",
        "    return a + b\n",
        "\n",
        "print(add(3, 5))"
      ],
      "metadata": {
        "id": "E6nkp-_BsvhJ"
      },
      "execution_count": null,
      "outputs": []
    },
    {
      "cell_type": "markdown",
      "source": [
        "기본값 있는 인자"
      ],
      "metadata": {
        "id": "ls1XknBYs17x"
      }
    },
    {
      "cell_type": "code",
      "source": [
        "def greet_country(name, country=\"한국\"):\n",
        "    print(f\"{name}님은 {country}에서 왔습니다.\")\n",
        "\n",
        "greet_country(\"민수\")\n",
        "# country 인수를 생략 → 기본값 \"한국\" 사용\n",
        "greet_country"
      ],
      "metadata": {
        "id": "e1E-yBU1s1QM"
      },
      "execution_count": null,
      "outputs": []
    },
    {
      "cell_type": "markdown",
      "source": [
        "키워드 인자"
      ],
      "metadata": {
        "id": "HfRTb-ijs0_L"
      }
    },
    {
      "cell_type": "code",
      "source": [
        "def describe_pet(pet_name, animal_type=\"강아지\"):\n",
        "    print(f\"저는 {animal_type} {pet_name}를 키웁니다.\")\n",
        "\n",
        "describe_pet(pet_name=\"해피\", animal_type=\"고양이\")\n",
        "describe_pet(animal_type=\"거북이\", pet_name=\"터틀\")"
      ],
      "metadata": {
        "id": "PeLSHVv4tASu"
      },
      "execution_count": null,
      "outputs": []
    },
    {
      "cell_type": "markdown",
      "source": [
        "가변 인자 (*args)"
      ],
      "metadata": {
        "id": "7lqWE7oAsvV6"
      }
    },
    {
      "cell_type": "markdown",
      "source": [
        "def print_fruits(*fruits):\n",
        "    print(\"과일 목록:\")\n",
        "    for fruit in fruits:\n",
        "        print(\"-\", fruit)\n",
        "\n",
        "print_fruits(\"사과\", \"바나나\", \"체리\")"
      ],
      "metadata": {
        "id": "6wPq2TybtE9i"
      }
    },
    {
      "cell_type": "markdown",
      "source": [
        "가변 키워드 인자"
      ],
      "metadata": {
        "id": "oKohYEYltGGV"
      }
    },
    {
      "cell_type": "code",
      "source": [
        "def print_info(**info):\n",
        "    print(\"정보:\")\n",
        "    for key, value in info.items():\n",
        "        print(f\"{key}: {value}\")\n",
        "\n",
        "print_info(name=\"철수\", age=25, city=\"서울\")"
      ],
      "metadata": {
        "id": "2ukP-RHdtGUi"
      },
      "execution_count": null,
      "outputs": []
    },
    {
      "cell_type": "markdown",
      "source": [
        "반환값"
      ],
      "metadata": {
        "id": "bnje9lqNtQ7A"
      }
    },
    {
      "cell_type": "code",
      "source": [
        "def multiply(x, y):\n",
        "    return x * y\n",
        "\n",
        "result = multiply(4, 5)\n",
        "print(f\"4 * 5 = {result}\")\n"
      ],
      "metadata": {
        "id": "IHrzfvTMtP77"
      },
      "execution_count": null,
      "outputs": []
    },
    {
      "cell_type": "markdown",
      "source": [
        "클래스 정의 및 객체 생성"
      ],
      "metadata": {
        "id": "TRdd4XMctPvN"
      }
    },
    {
      "cell_type": "code",
      "source": [
        "class Person:\n",
        "    # __init__ 메서드는 생성자(Constructor) 역할\n",
        "    def __init__(self, name, age):\n",
        "        self.name = name  # 객체 속성\n",
        "        self.age = age\n",
        "\n",
        "    # 메서드 (객체 함수)\n",
        "    def greet(self):\n",
        "        print(f\"안녕하세요! 저는 {self.name}이고, {self.age}살입니다.\")"
      ],
      "metadata": {
        "id": "eHO5caxWtZdj"
      },
      "execution_count": null,
      "outputs": []
    },
    {
      "cell_type": "markdown",
      "source": [
        "객체 생성 - 인수를 전달해 속성 초기화"
      ],
      "metadata": {
        "id": "918dUh41tevV"
      }
    },
    {
      "cell_type": "code",
      "source": [
        "p1 = Person(\"영희\", 25)\n",
        "p1.greet()\n"
      ],
      "metadata": {
        "id": "--WJwxkhthT3"
      },
      "execution_count": null,
      "outputs": []
    },
    {
      "cell_type": "markdown",
      "source": [
        "클래스 속성 접근 및 변경"
      ],
      "metadata": {
        "id": "xOxt2M_EtjAg"
      }
    },
    {
      "cell_type": "code",
      "source": [
        "print(p1.name)\n",
        "p1.age = 26\n",
        "print(f\"{p1.name}님의 나이는 {p1.age}살입니다.\")\n"
      ],
      "metadata": {
        "id": "ZdPEdKj8tiI2"
      },
      "execution_count": null,
      "outputs": []
    },
    {
      "cell_type": "markdown",
      "source": [
        "클래스 메서드에 인자 전달"
      ],
      "metadata": {
        "id": "fOhPJMz7tn8N"
      }
    },
    {
      "cell_type": "code",
      "source": [
        "class Person:\n",
        "    def __init__(self, name, age):\n",
        "        self.name = name\n",
        "        self.age = age\n",
        "\n",
        "    def greet(self, greeting=\"안녕하세요\"):\n",
        "        print(f\"{greeting}! 저는 {self.name}이고, {self.age}살입니다.\")\n",
        "\n",
        "p2 = Person(\"철수\", 30)\n",
        "p2.greet()\n",
        "p2.greet(\"반갑습니다\")"
      ],
      "metadata": {
        "id": "de26Z2a7tqgH"
      },
      "execution_count": null,
      "outputs": []
    },
    {
      "cell_type": "markdown",
      "source": [
        "클래스 내부에서 다른 메서드 호출하기"
      ],
      "metadata": {
        "id": "_6R6hbADtsRm"
      }
    },
    {
      "cell_type": "code",
      "source": [
        "class Person:\n",
        "    def __init__(self, name):\n",
        "        self.name = name\n",
        "\n",
        "    def say_hello(self):\n",
        "        print(f\"안녕하세요, {self.name}입니다.\")\n",
        "\n",
        "    def greet_twice(self):\n",
        "        self.say_hello()\n",
        "        self.say_hello()\n",
        "\n",
        "p3 = Person(\"수진\")\n",
        "p3.greet_twice()"
      ],
      "metadata": {
        "id": "BEkCOc6_txwD"
      },
      "execution_count": null,
      "outputs": []
    },
    {
      "cell_type": "markdown",
      "source": [
        "빈 클래스 만들기"
      ],
      "metadata": {
        "id": "Qiwm1svLtvYi"
      }
    },
    {
      "cell_type": "code",
      "source": [
        "class Empty:\n",
        "    pass\n",
        "\n",
        "e = Empty()\n"
      ],
      "metadata": {
        "id": "1PhUQ0Dtt185"
      },
      "execution_count": null,
      "outputs": []
    },
    {
      "cell_type": "markdown",
      "source": [
        "차선 변경 안전성 판단"
      ],
      "metadata": {
        "id": "c6c08HY4mJc4"
      }
    },
    {
      "cell_type": "code",
      "source": [
        "def lane_change_safety(left_distance, right_distance, front_distance, speed, lane_change_direction):\n",
        "    \"\"\"\n",
        "    - left_distance: 왼쪽 차선까지 거리 (미터)\n",
        "    - right_distance: 오른쪽 차선까지 거리 (미터)\n",
        "    - front_distance: 전방 차량까지 거리 (미터)\n",
        "    - speed: 현재 속도 (km/h)\n",
        "    - lane_change_direction: \"left\" 또는 \"right\"\n",
        "    \"\"\"\n",
        "    safe = False\n",
        "    if lane_change_direction == \"left\":\n",
        "        if left_distance > 5 and front_distance > 20 and speed < 100:\n",
        "            safe = True\n",
        "    else:\n",
        "        if right_distance > 5 and front_distance > 20 and speed < 100:\n",
        "            safe = True\n",
        "    return safe\n",
        "\n",
        "print(lane_change_safety(10, 8, 30, 80, \"left\"))"
      ],
      "metadata": {
        "colab": {
          "base_uri": "https://localhost:8080/"
        },
        "id": "64hHl02pmKzy",
        "outputId": "cb085722-2692-493c-81c3-b7588630ddab"
      },
      "execution_count": 1,
      "outputs": [
        {
          "output_type": "stream",
          "name": "stdout",
          "text": [
            "True\n"
          ]
        }
      ]
    },
    {
      "cell_type": "markdown",
      "source": [
        "신호등 및 보행자 상황에 따른 주행"
      ],
      "metadata": {
        "id": "9FAOnXMBmRkZ"
      }
    },
    {
      "cell_type": "code",
      "source": [
        "def drive_by_signal_and_pedestrian(traffic_light, pedestrian_near, speed, distance_to_crosswalk, is_night):\n",
        "    \"\"\"\n",
        "    - traffic_light: 신호등 상태 (\"red\", \"green\", \"yellow\")\n",
        "    - pedestrian_near: 보행자 근접 여부 (True/False)\n",
        "    - speed: 현재 속도 (km/h)\n",
        "    - distance_to_crosswalk: 횡단보도까지 거리 (미터)\n",
        "    - is_night: 야간 여부 (True/False)\n",
        "    \"\"\"\n",
        "    action = \"정상 주행\"\n",
        "    if traffic_light == \"red\":\n",
        "        action = \"정지\"\n",
        "    elif traffic_light == \"yellow\" and distance_to_crosswalk < 15:\n",
        "        action = \"감속\"\n",
        "    if pedestrian_near:\n",
        "        action = \"정지\" if distance_to_crosswalk < 10 else \"서행\"\n",
        "    if is_night and speed > 40:\n",
        "        action = \"속도 제한\"\n",
        "    return action\n",
        "\n",
        "print(drive_by_signal_and_pedestrian(\"yellow\", True, 45, 8, False))"
      ],
      "metadata": {
        "id": "42yGorTzmR21"
      },
      "execution_count": null,
      "outputs": []
    },
    {
      "cell_type": "markdown",
      "source": [
        "긴급 상황 대응 및 통신"
      ],
      "metadata": {
        "id": "bBTKhHnCmedK"
      }
    },
    {
      "cell_type": "code",
      "source": [
        "def emergency_response(emergency_detected, communication_status, battery_level, speed, distance_to_safe_zone):\n",
        "    \"\"\"\n",
        "    - emergency_detected: 긴급 상황 감지 여부 (True/False)\n",
        "    - communication_status: 통신 상태 (\"good\", \"poor\", \"lost\")\n",
        "    - battery_level: 배터리 잔량 (%)\n",
        "    - speed: 현재 속도 (km/h)\n",
        "    - distance_to_safe_zone: 안전지대까지 거리 (미터)\n",
        "    \"\"\"\n",
        "    if emergency_detected:\n",
        "        if communication_status == \"lost\":\n",
        "            return \"긴급 정지 및 수동 대기\"\n",
        "        elif battery_level < 20:\n",
        "            return \"최소한의 이동 후 정지\"\n",
        "        else:\n",
        "            return \"안전지대로 이동\"\n",
        "    return \"정상 운행\"\n",
        "\n",
        "print(emergency_response(True, \"poor\", 30, 60, 200))"
      ],
      "metadata": {
        "id": "WmEWPLbBmel5"
      },
      "execution_count": null,
      "outputs": []
    },
    {
      "cell_type": "markdown",
      "source": [
        "날씨 및 도로 상태에 따른 주행 전략"
      ],
      "metadata": {
        "id": "uXPAig_LmeuF"
      }
    },
    {
      "cell_type": "code",
      "source": [
        "def weather_driving_strategy(weather, visibility, road_friction, speed, is_highway):\n",
        "    \"\"\"\n",
        "    - weather: 날씨 (\"clear\", \"rain\", \"snow\", \"fog\")\n",
        "    - visibility: 가시거리 (미터)\n",
        "    - road_friction: 노면 마찰계수 (0.0~1.0)\n",
        "    - speed: 현재 속도 (km/h)\n",
        "    - is_highway: 고속도로 여부 (True/False)\n",
        "    \"\"\"\n",
        "    if weather == \"rain\" and road_friction < 0.5:\n",
        "        return \"감속 및 차간거리 확보\"\n",
        "    elif weather == \"snow\" or (weather == \"fog\" and visibility < 100):\n",
        "        return \"최대 속도 40km/h로 제한\"\n",
        "    elif is_highway and speed > 100:\n",
        "        return \"속도 제한\"\n",
        "    return \"정상 주행\"\n",
        "\n",
        "print(weather_driving_strategy(\"rain\", 200, 0.4, 90, True))"
      ],
      "metadata": {
        "id": "zrhJZ1I8me2a"
      },
      "execution_count": null,
      "outputs": []
    },
    {
      "cell_type": "markdown",
      "source": [
        "주차 공간 탐색 및 주차 가능성 판단"
      ],
      "metadata": {
        "id": "Xm6UuSpRme_C"
      }
    },
    {
      "cell_type": "code",
      "source": [
        "def parking_space_analysis(parking_length, car_length, parking_width, car_width, obstacles):\n",
        "    \"\"\"\n",
        "    - parking_length: 주차 공간 길이 (미터)\n",
        "    - car_length: 차량 길이 (미터)\n",
        "    - parking_width: 주차 공간 폭 (미터)\n",
        "    - car_width: 차량 폭 (미터)\n",
        "    - obstacles: 장애물 유무 (True/False)\n",
        "    \"\"\"\n",
        "    if obstacles:\n",
        "        return \"주차 불가 - 장애물 있음\"\n",
        "    if parking_length < car_length + 0.5:\n",
        "        return \"주차 불가 - 길이 부족\"\n",
        "    if parking_width < car_width + 0.3:\n",
        "        return \"주차 불가 - 폭 부족\"\n",
        "    return \"주차 가능\"\n",
        "\n",
        "print(parking_space_analysis(5.2, 4.5, 2.1, 1.8, False))"
      ],
      "metadata": {
        "id": "JDtF530omfLR"
      },
      "execution_count": null,
      "outputs": []
    },
    {
      "cell_type": "markdown",
      "source": [
        "속도가 70 이상인 차량만 선택"
      ],
      "metadata": {
        "id": "YOj0H61_qCe9"
      }
    },
    {
      "cell_type": "code",
      "source": [
        "fast_cars = [car for car in cars if car.speed >= 70]\n",
        "for car in fast_cars:\n",
        "    print(f\"{car.name}: {car.speed}km/h\")"
      ],
      "metadata": {
        "id": "U2Qk_WQdqCnw"
      },
      "execution_count": null,
      "outputs": []
    },
    {
      "cell_type": "markdown",
      "source": [
        "장애물이 감지된 차량만 선택"
      ],
      "metadata": {
        "id": "E4ArMd9AqCwa"
      }
    },
    {
      "cell_type": "code",
      "source": [
        "obstacle_cars = [car for car in cars if car.is_obstacle_detected]\n",
        "for car in obstacle_cars:\n",
        "    print(f\"{car.name} (장애물 감지)\")"
      ],
      "metadata": {
        "id": "e5vMIgExqC3l"
      },
      "execution_count": null,
      "outputs": []
    },
    {
      "cell_type": "markdown",
      "source": [
        "filter 함수로 필터링\n",
        "속도가 60 이상이고 장애물이 감지된 차량만 선택"
      ],
      "metadata": {
        "id": "m4B8rsucqC_P"
      }
    },
    {
      "cell_type": "code",
      "source": [
        "filtered_cars = list(filter(lambda car: car.speed >= 60 and car.is_obstacle_detected, cars))\n",
        "for car in filtered_cars:\n",
        "    print(f\"{car.name}: {car.speed}km/h, 장애물 감지\")"
      ],
      "metadata": {
        "id": "-jU1jY5CqDHG"
      },
      "execution_count": null,
      "outputs": []
    },
    {
      "cell_type": "markdown",
      "source": [
        " 조건에 맞는 첫 번째 객체만 찾기 (next + generator)\n",
        "속도가 80 이상인 첫 번째 차량 찾기"
      ],
      "metadata": {
        "id": "ab2vc2YmqDOR"
      }
    },
    {
      "cell_type": "code",
      "source": [
        "first_fast_car = next((car for car in cars if car.speed >= 80), None)\n",
        "if first_fast_car:\n",
        "    print(f\"속도 80 이상 첫 번째 차량: {first_fast_car.name}\")\n",
        "else:\n",
        "    print(\"속도 80 이상 차량 없음\")"
      ],
      "metadata": {
        "id": "3I-BXdQsqDVd"
      },
      "execution_count": null,
      "outputs": []
    },
    {
      "cell_type": "markdown",
      "source": [
        "여러 조건을 조합한 필터링\n",
        "장애물이 감지되지 않고 속도가 60 이상인 차량"
      ],
      "metadata": {
        "id": "R10CcL6UqDcD"
      }
    },
    {
      "cell_type": "code",
      "source": [
        "safe_cars = [car for car in cars if not car.is_obstacle_detected and car.speed >= 60]\n",
        "for car in safe_cars:\n",
        "    print(f\"{car.name}: {car.speed}km/h, 안전 주행\")"
      ],
      "metadata": {
        "id": "K2x6NVafqDms"
      },
      "execution_count": null,
      "outputs": []
    },
    {
      "cell_type": "markdown",
      "source": [
        "기본 자율주행 차량 클래스"
      ],
      "metadata": {
        "id": "R1eX1qXVuK_n"
      }
    },
    {
      "cell_type": "code",
      "source": [
        "class AutonomousCar:\n",
        "    def __init__(self, name):\n",
        "        self.name = name\n",
        "        self.speed = 0\n",
        "        self.obstacle_detected = False\n",
        "\n",
        "    def accelerate(self, amount):\n",
        "        if not self.obstacle_detected:\n",
        "            self.speed += amount\n",
        "            print(f\"{self.name}: {self.speed}km/h로 가속\")\n",
        "        else:\n",
        "            print(\"장애물 감지! 가속 불가\")\n",
        "\n",
        "    def brake(self, amount):\n",
        "        self.speed = max(self.speed - amount, 0)\n",
        "        print(f\"{self.name}: {self.speed}km/h로 감속\")\n",
        "\n",
        "    def detect_obstacle(self, detected):\n",
        "        self.obstacle_detected = detected\n",
        "        if detected:\n",
        "            print(\"장애물 감지! 긴급 제동\")\n",
        "            self.brake(30)"
      ],
      "metadata": {
        "id": "i8yUqA4wuNTv"
      },
      "execution_count": null,
      "outputs": []
    },
    {
      "cell_type": "markdown",
      "source": [
        "센서 통합 클래스"
      ],
      "metadata": {
        "id": "-egDYQgtuO3D"
      }
    },
    {
      "cell_type": "code",
      "source": [
        "class SensorSystem:\n",
        "    def __init__(self):\n",
        "        self.camera = False\n",
        "        self.lidar = False\n",
        "        self.radar = False\n",
        "\n",
        "    def activate_all(self):\n",
        "        self.camera = True\n",
        "        self.lidar = True\n",
        "        self.radar = True\n",
        "        print(\"모든 센서 활성화\")\n",
        "\n",
        "    def detect_environment(self):\n",
        "        if self.camera:\n",
        "            print(\"카메라: 차선 및 보행자 인식\")\n",
        "        if self.lidar:\n",
        "            print(\"LiDAR: 3D 환경 인식\")\n",
        "        if self.radar:\n",
        "            print(\"레이더: 전방 장애물 감지\")\n"
      ],
      "metadata": {
        "id": "PRc3Rw-QuQao"
      },
      "execution_count": null,
      "outputs": []
    },
    {
      "cell_type": "markdown",
      "source": [
        " 신호등 인식 및 제어 클래스"
      ],
      "metadata": {
        "id": "aK6HmQ-AuR7y"
      }
    },
    {
      "cell_type": "code",
      "source": [
        "class TrafficLightController:\n",
        "    def __init__(self):\n",
        "        self.current_light = \"green\"\n",
        "\n",
        "    def update_light(self, new_light):\n",
        "        self.current_light = new_light\n",
        "        print(f\"신호등 상태: {self.current_light}\")\n",
        "\n",
        "    def get_action(self):\n",
        "        if self.current_light == \"red\":\n",
        "            return \"정지\"\n",
        "        elif self.current_light == \"yellow\":\n",
        "            return \"감속\"\n",
        "        else:\n",
        "            return \"진행\"\n"
      ],
      "metadata": {
        "id": "rwBGJs-CuTAV"
      },
      "execution_count": null,
      "outputs": []
    },
    {
      "cell_type": "markdown",
      "source": [
        "주차 자동화 클래스"
      ],
      "metadata": {
        "id": "r1tCqvmJuUkM"
      }
    },
    {
      "cell_type": "code",
      "source": [
        "class AutoParkingSystem:\n",
        "    def __init__(self, car_width, car_length):\n",
        "        self.car_width = car_width\n",
        "        self.car_length = car_length\n",
        "\n",
        "    def scan_space(self, width, length):\n",
        "        if width > self.car_width + 0.5 and length > self.car_length + 0.8:\n",
        "            return \"주차 가능\"\n",
        "        return \"주차 불가능\"\n"
      ],
      "metadata": {
        "id": "VJnfKPhOuVf0"
      },
      "execution_count": null,
      "outputs": []
    },
    {
      "cell_type": "markdown",
      "source": [
        "자율주행 통합 제어 클래스"
      ],
      "metadata": {
        "id": "tB9p9Lo9uXfs"
      }
    },
    {
      "cell_type": "code",
      "source": [
        "class AutonomousControl:\n",
        "    def __init__(self):\n",
        "        self.speed = 0\n",
        "        self.steering_angle = 0\n",
        "        self.navigation_active = False\n",
        "\n",
        "    def activate_autonomy(self):\n",
        "        self.navigation_active = True\n",
        "        print(\"자율주행 모드 활성화\")\n",
        "\n",
        "    def update_driving(self, speed, angle):\n",
        "        if self.navigation_active:\n",
        "            self.speed = speed\n",
        "            self.steering_angle = angle\n",
        "            print(f\"속도: {speed}km/h, 조향각: {angle}도\")\n",
        "\n",
        "    def emergency_stop(self):\n",
        "        self.speed = 0\n",
        "        self.steering_angle = 0\n",
        "        print(\"긴급 정지 실행\")\n"
      ],
      "metadata": {
        "id": "p5WT-HvmuYdF"
      },
      "execution_count": null,
      "outputs": []
    }
  ]
}