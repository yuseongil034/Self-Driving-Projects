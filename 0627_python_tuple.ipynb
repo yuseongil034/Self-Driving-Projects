{
  "nbformat": 4,
  "nbformat_minor": 0,
  "metadata": {
    "colab": {
      "provenance": [],
      "gpuType": "T4",
      "authorship_tag": "ABX9TyPXuyXouxrsXT4h1cQXMmi2",
      "include_colab_link": true
    },
    "kernelspec": {
      "name": "python3",
      "display_name": "Python 3"
    },
    "language_info": {
      "name": "python"
    },
    "accelerator": "GPU"
  },
  "cells": [
    {
      "cell_type": "markdown",
      "metadata": {
        "id": "view-in-github",
        "colab_type": "text"
      },
      "source": [
        "<a href=\"https://colab.research.google.com/github/yuseongil034/yuseongil/blob/main/0627_python_tuple.ipynb\" target=\"_parent\"><img src=\"https://colab.research.google.com/assets/colab-badge.svg\" alt=\"Open In Colab\"/></a>"
      ]
    },
    {
      "cell_type": "markdown",
      "source": [
        "1.튜플이란?\n",
        "튜플은 여러 항목을 하나의 변수에 저장할 수 있는 파이썬의 내장 데이터 타입입니다. 튜플은 네 개의 내장 컬렉션 타입 중 하나이며, 나머지는 리스트(List), 집합(Set), 딕셔너리(Dictionary)입니다."
      ],
      "metadata": {
        "id": "ApUvOHagFLKu"
      }
    },
    {
      "cell_type": "code",
      "execution_count": 26,
      "metadata": {
        "colab": {
          "base_uri": "https://localhost:8080/"
        },
        "id": "kv-y3IMCDcR6",
        "outputId": "6d184f56-80ce-445b-ca9e-355ada5dcf29"
      },
      "outputs": [
        {
          "output_type": "stream",
          "name": "stdout",
          "text": [
            "('apple', 'banana', 'cherry')\n"
          ]
        }
      ],
      "source": [
        "thistuple = ('apple', 'banana','cherry')\n",
        "print(thistuple)"
      ]
    },
    {
      "cell_type": "markdown",
      "source": [
        "2. 튜플 허용 (Tuple Items)\n",
        "튜플은 순서가 있고(ordered), 중복을 허용합니다."
      ],
      "metadata": {
        "id": "YYaAWunzJvVO"
      }
    },
    {
      "cell_type": "code",
      "source": [
        "thistuple = (\"apple\", \"banana\", \"cherry\", \"apple\", \"cherry\")\n",
        "print(thistuple)"
      ],
      "metadata": {
        "colab": {
          "base_uri": "https://localhost:8080/"
        },
        "id": "JlzXAHlsFlM_",
        "outputId": "4f130339-ff30-477d-fba7-6d9cb7d5bfcd"
      },
      "execution_count": 27,
      "outputs": [
        {
          "output_type": "stream",
          "name": "stdout",
          "text": [
            "('apple', 'banana', 'cherry', 'apple', 'cherry')\n"
          ]
        }
      ]
    },
    {
      "cell_type": "markdown",
      "source": [
        "3. 튜플 길이 (Tuple Length)"
      ],
      "metadata": {
        "id": "8uoHvMAFJ85Y"
      }
    },
    {
      "cell_type": "code",
      "source": [
        "thistuple = (\"apple\", \"banana\", \"cherry\")\n",
        "print(len(thistuple))"
      ],
      "metadata": {
        "colab": {
          "base_uri": "https://localhost:8080/"
        },
        "id": "D8wmecc0J_bW",
        "outputId": "ef2995fe-90e0-4d35-fa67-c2c43593348b"
      },
      "execution_count": 28,
      "outputs": [
        {
          "output_type": "stream",
          "name": "stdout",
          "text": [
            "3\n"
          ]
        }
      ]
    },
    {
      "cell_type": "markdown",
      "source": [
        "4. 튜플 항목 - 데이터 타입 (Tuple Items - Data Types)\n",
        "튜플 항목은 어떤 타입도 될 수 있습니다:"
      ],
      "metadata": {
        "id": "gtQaRDWwKBQG"
      }
    },
    {
      "cell_type": "code",
      "source": [
        "tuple1 = (\"apple\", \"banana\", \"cherry\")\n",
        "tuple2 = (1, 5, 7, 9, 3)\n",
        "tuple3 = (True, False, False)\n",
        "tuple1 = (\"abc\", 34, True, 40, \"male\")"
      ],
      "metadata": {
        "id": "AyMfwswqKChY"
      },
      "execution_count": 29,
      "outputs": []
    },
    {
      "cell_type": "markdown",
      "source": [
        "5. 튜플 타입 (type())"
      ],
      "metadata": {
        "id": "Xwy2ZiauKHcC"
      }
    },
    {
      "cell_type": "code",
      "source": [
        "mytuple = (\"apple\", \"banana\", \"cherry\")\n",
        "print(type(mytuple))"
      ],
      "metadata": {
        "colab": {
          "base_uri": "https://localhost:8080/"
        },
        "id": "xoZnqgRXKNgM",
        "outputId": "e933a668-c0ca-4609-e586-7fe3319d612c"
      },
      "execution_count": 30,
      "outputs": [
        {
          "output_type": "stream",
          "name": "stdout",
          "text": [
            "<class 'tuple'>\n"
          ]
        }
      ]
    },
    {
      "cell_type": "markdown",
      "source": [
        "6. 튜플 생성자 (The tuple() Constructor)\n",
        "tuple() 생성자로 튜플을 만들 수 있습니다"
      ],
      "metadata": {
        "id": "spbZjOJMKRmW"
      }
    },
    {
      "cell_type": "code",
      "source": [
        "thistuple = tuple((\"apple\", \"banana\", \"cherry\")) # 괄호가 두 번\n",
        "print(thistuple)"
      ],
      "metadata": {
        "colab": {
          "base_uri": "https://localhost:8080/"
        },
        "id": "bH2Jhz2EKUfU",
        "outputId": "af4f9d27-bf0e-4777-947e-24264eda06f7"
      },
      "execution_count": 31,
      "outputs": [
        {
          "output_type": "stream",
          "name": "stdout",
          "text": [
            "('apple', 'banana', 'cherry')\n"
          ]
        }
      ]
    },
    {
      "cell_type": "markdown",
      "source": [
        "7. 튜플 항목 접근 (Access Tuple Items)\n",
        "인덱스로 접근"
      ],
      "metadata": {
        "id": "AY3qK5IgKWLN"
      }
    },
    {
      "cell_type": "code",
      "source": [
        "thistuple = (\"apple\", \"banana\", \"cherry\")\n",
        "print(thistuple[1])"
      ],
      "metadata": {
        "colab": {
          "base_uri": "https://localhost:8080/"
        },
        "id": "RGJAQGrGKWlm",
        "outputId": "24e13ac5-af63-4da5-d8b4-167bac495c2a"
      },
      "execution_count": 32,
      "outputs": [
        {
          "output_type": "stream",
          "name": "stdout",
          "text": [
            "banana\n"
          ]
        }
      ]
    },
    {
      "cell_type": "markdown",
      "source": [
        "8. 튜플 항목 변경 (Change Tuple Values)\n",
        "튜플은 불변이므로 직접 변경할 수 없지만, 리스트로 변환해서 바꾼 뒤 다시 튜플로 만들 수 있습니다"
      ],
      "metadata": {
        "id": "UczOBXFmKaBn"
      }
    },
    {
      "cell_type": "code",
      "source": [
        "x = (\"apple\", \"banana\", \"cherry\")\n",
        "y = list(x)\n",
        "y[1] = \"kiwi\"\n",
        "x = tuple(y)\n",
        "print(x)"
      ],
      "metadata": {
        "colab": {
          "base_uri": "https://localhost:8080/"
        },
        "id": "CqF8fC4cKco9",
        "outputId": "10b83d0b-f259-450d-eb45-71c1ba73cda9"
      },
      "execution_count": 33,
      "outputs": [
        {
          "output_type": "stream",
          "name": "stdout",
          "text": [
            "('apple', 'kiwi', 'cherry')\n"
          ]
        }
      ]
    },
    {
      "cell_type": "markdown",
      "source": [
        "9. 튜플 추가 (Add Items)\n",
        "튜플은 불변이므로 직접 추가할 수 없습니다.\n",
        "리스트로 변환해서 추가한 뒤 튜플로 다시 변환"
      ],
      "metadata": {
        "id": "y44bO6FwKd8k"
      }
    },
    {
      "cell_type": "code",
      "source": [
        "thistuple = (\"apple\", \"banana\", \"cherry\")\n",
        "y = list(thistuple)\n",
        "y.append(\"orange\")\n",
        "thistuple = tuple(y)\n",
        "print(thistuple)"
      ],
      "metadata": {
        "colab": {
          "base_uri": "https://localhost:8080/"
        },
        "id": "81qiXbzLKplV",
        "outputId": "30c8c894-7f4c-4a78-9d90-359398a14c4c"
      },
      "execution_count": 34,
      "outputs": [
        {
          "output_type": "stream",
          "name": "stdout",
          "text": [
            "('apple', 'banana', 'cherry', 'orange')\n"
          ]
        }
      ]
    },
    {
      "cell_type": "markdown",
      "source": [
        "10. 튜플 삭제 (Remove Items)\n",
        "튜플은 불변이므로 직접 삭제할 수 없습니다.\n",
        "리스트로 변환해서 삭제한 뒤 튜플로 다시 변환"
      ],
      "metadata": {
        "id": "c3_y_LqSKiZF"
      }
    },
    {
      "cell_type": "code",
      "source": [
        "thistuple = (\"apple\", \"banana\", \"cherry\")\n",
        "y = list(thistuple)\n",
        "y.remove(\"apple\")\n",
        "thistuple = tuple(y)\n",
        "print(thistuple)"
      ],
      "metadata": {
        "colab": {
          "base_uri": "https://localhost:8080/"
        },
        "id": "C33L3-zXKsyg",
        "outputId": "a4f188e7-c17c-4f7b-c7e5-d42404688672"
      },
      "execution_count": 35,
      "outputs": [
        {
          "output_type": "stream",
          "name": "stdout",
          "text": [
            "('banana', 'cherry')\n"
          ]
        }
      ]
    },
    {
      "cell_type": "markdown",
      "source": [
        "11. 튜플 언패킹 (Unpacking a Tuple)\n",
        "튜플 언패킹"
      ],
      "metadata": {
        "id": "pcwF5eLiKuWk"
      }
    },
    {
      "cell_type": "code",
      "source": [
        "fruits = (\"apple\", \"banana\", \"cherry\")\n",
        "(green, yellow, red) = fruits\n",
        "print(green)\n",
        "print(yellow)\n",
        "print(red)"
      ],
      "metadata": {
        "colab": {
          "base_uri": "https://localhost:8080/"
        },
        "id": "dC3ZNMH4KxFd",
        "outputId": "139b0887-94d3-43e4-c3ba-13e1a3d7fe93"
      },
      "execution_count": 36,
      "outputs": [
        {
          "output_type": "stream",
          "name": "stdout",
          "text": [
            "apple\n",
            "banana\n",
            "cherry\n"
          ]
        }
      ]
    },
    {
      "cell_type": "markdown",
      "source": [
        "12. 튜플 메서드 (Tuple Methods)\n",
        "튜플에는 두 가지 메서드만 있습니다:\n",
        "\n",
        "count() : 특정 값이 몇 번 나타나는지\n",
        "\n",
        "index() : 특정 값의 인덱스를 반환"
      ],
      "metadata": {
        "id": "MP4edF8dKyJW"
      }
    },
    {
      "cell_type": "code",
      "source": [
        "thistuple = (1, 3, 7, 8, 7, 5, 4, 6, 8, 5)\n",
        "x = thistuple.count(5)\n",
        "print(x)\n",
        "\n",
        "y = thistuple.index(8)\n",
        "print(y)"
      ],
      "metadata": {
        "colab": {
          "base_uri": "https://localhost:8080/"
        },
        "id": "tG5mFwDtK2G5",
        "outputId": "e9aabade-7db1-4cce-80b8-19955bb01873"
      },
      "execution_count": 37,
      "outputs": [
        {
          "output_type": "stream",
          "name": "stdout",
          "text": [
            "2\n",
            "3\n"
          ]
        }
      ]
    },
    {
      "cell_type": "markdown",
      "source": [
        "기본 좌표 언패킹"
      ],
      "metadata": {
        "id": "1i1KEJPCNwcW"
      }
    },
    {
      "cell_type": "code",
      "source": [
        "vehicle_position = (127.5, 37.5)  # 경도, 위도\n",
        "\n",
        "longitude, latitude = vehicle_position\n",
        "print(f\"차량 위치: 경도 {longitude}, 위도 {latitude}\")"
      ],
      "metadata": {
        "colab": {
          "base_uri": "https://localhost:8080/"
        },
        "id": "MvrE1K9ULxFT",
        "outputId": "be2e3318-f25a-4ac4-a1e0-a908ff3b2d8e"
      },
      "execution_count": 38,
      "outputs": [
        {
          "output_type": "stream",
          "name": "stdout",
          "text": [
            "차량 위치: 경도 127.5, 위도 37.5\n"
          ]
        }
      ]
    },
    {
      "cell_type": "markdown",
      "source": [
        "센서 데이터 언패킹  "
      ],
      "metadata": {
        "id": "mMBxjzyhOz-x"
      }
    },
    {
      "cell_type": "code",
      "source": [
        "lidar_data = (8.5, 45)  # 거리(미터), 각도(도)\n",
        "\n",
        "distance, angle = lidar_data\n",
        "print(f\"라이다 감지: {distance}m, {angle}도\")"
      ],
      "metadata": {
        "colab": {
          "base_uri": "https://localhost:8080/"
        },
        "id": "yTDrW3QoO3BW",
        "outputId": "f6539019-7eb7-467f-d891-9375010ca0d0"
      },
      "execution_count": 39,
      "outputs": [
        {
          "output_type": "stream",
          "name": "stdout",
          "text": [
            "라이다 감지: 8.5m, 45도\n"
          ]
        }
      ]
    },
    {
      "cell_type": "markdown",
      "source": [
        "속도와 방향 언패킹"
      ],
      "metadata": {
        "id": "Zk-V43oxO77m"
      }
    },
    {
      "cell_type": "code",
      "source": [
        "motion_data = (60, 270)  # 속도(km/h), 방향(도)\n",
        "\n",
        "speed, direction = motion_data\n",
        "print(f\"차량 운동: {speed}km/h, {direction}도 방향\")"
      ],
      "metadata": {
        "colab": {
          "base_uri": "https://localhost:8080/"
        },
        "id": "w9TVzPajO-vC",
        "outputId": "491329a1-5c3e-4001-b163-565eac6a630e"
      },
      "execution_count": 40,
      "outputs": [
        {
          "output_type": "stream",
          "name": "stdout",
          "text": [
            "차량 운동: 60km/h, 270도 방향\n"
          ]
        }
      ]
    },
    {
      "cell_type": "markdown",
      "source": [
        "주차 공간 정보 언패킹\n"
      ],
      "metadata": {
        "id": "8Ej-I_77PF4D"
      }
    },
    {
      "cell_type": "code",
      "source": [
        "parking_spot = (4.8, 2.3, True)  # 길이(m), 폭(m), 사용가능여부\n",
        "\n",
        "length, width, available = parking_spot\n",
        "print(f\"주차공간: {length}m × {width}m, 사용가능: {available}\")"
      ],
      "metadata": {
        "colab": {
          "base_uri": "https://localhost:8080/"
        },
        "id": "daPJLxkzPQu7",
        "outputId": "142afdc9-0c28-4a2a-86cb-581160233412"
      },
      "execution_count": 41,
      "outputs": [
        {
          "output_type": "stream",
          "name": "stdout",
          "text": [
            "주차공간: 4.8m × 2.3m, 사용가능: True\n"
          ]
        }
      ]
    },
    {
      "cell_type": "markdown",
      "source": [
        "배터리 상태 언패킹\n"
      ],
      "metadata": {
        "id": "zCzrQDd9PRr1"
      }
    },
    {
      "cell_type": "code",
      "source": [
        "battery_info = (85, 320, 'normal')  # 잔량(%), 주행가능거리(km), 상태\n",
        "\n",
        "charge_level, remaining_range, battery_status = battery_info\n",
        "print(f\"배터리: {charge_level}%, {remaining_range}km 주행가능, 상태: {battery_status}\")\n",
        "\n",
        "print(\"\\n\" + \"=\"*50)"
      ],
      "metadata": {
        "colab": {
          "base_uri": "https://localhost:8080/"
        },
        "id": "SlXyxvbZPTa3",
        "outputId": "584b2ccd-d80e-4cc3-a7bf-7c566fb91a8e"
      },
      "execution_count": 42,
      "outputs": [
        {
          "output_type": "stream",
          "name": "stdout",
          "text": [
            "배터리: 85%, 320km 주행가능, 상태: normal\n",
            "\n",
            "==================================================\n"
          ]
        }
      ]
    },
    {
      "cell_type": "markdown",
      "source": [
        "Tuple Unpacking + 리스트 조합"
      ],
      "metadata": {
        "id": "q04LuFmaPVX4"
      }
    },
    {
      "cell_type": "code",
      "source": [
        "# 교차로 정보들\n",
        "intersections = [\n",
        "    ('서울역', 'green', 25),\n",
        "    ('시청', 'red', 40),\n",
        "    ('종로3가', 'yellow', 5),\n",
        "    ('을지로', 'green', 15)\n",
        "]\n",
        "\n",
        "print(\"\\n교차로 신호등 현황:\")\n",
        "for intersection in intersections:\n",
        "    name, signal_color, remaining_time = intersection\n",
        "    print(f\"{name}: {signal_color} ({remaining_time}초)\")\n",
        "\n",
        "print(\"\\n\" + \"=\"*50)"
      ],
      "metadata": {
        "colab": {
          "base_uri": "https://localhost:8080/"
        },
        "id": "rVtJ07qGSjcD",
        "outputId": "1993c77d-695c-4830-a0fd-f531d31ddd4b"
      },
      "execution_count": 43,
      "outputs": [
        {
          "output_type": "stream",
          "name": "stdout",
          "text": [
            "\n",
            "교차로 신호등 현황:\n",
            "서울역: green (25초)\n",
            "시청: red (40초)\n",
            "종로3가: yellow (5초)\n",
            "을지로: green (15초)\n",
            "\n",
            "==================================================\n"
          ]
        }
      ]
    },
    {
      "cell_type": "markdown",
      "source": [
        "Tuple Unpacking + 딕셔너리 조합"
      ],
      "metadata": {
        "id": "a2Q-kzHESmUd"
      }
    },
    {
      "cell_type": "code",
      "source": [
        "# 차량별 위치 정보를 딕셔너리로 관리\n",
        "vehicle_locations = {\n",
        "    'car_001': (127.1, 37.5, 60),    # 경도, 위도, 속도\n",
        "    'car_002': (127.2, 37.6, 45),\n",
        "    'car_003': (127.3, 37.4, 80),\n",
        "    'truck_001': (127.0, 37.3, 70)\n",
        "}\n",
        "\n",
        "print(\"차량별 현재 위치:\")\n",
        "for vehicle_id, location_data in vehicle_locations.items():\n",
        "    lon, lat, spd = location_data  # tuple unpacking\n",
        "    print(f\"{vehicle_id}: ({lon}, {lat}), {spd}km/h\")\n",
        "\n",
        "#for 충전소 정보를 딕셔너리로 관리\n",
        "charging_stations = {\n",
        "    '강남충전소': (127.027, 37.498, 5, 2),    # 경도, 위도, 총슬롯, 사용중슬롯\n",
        "    '서초충전소': (127.032, 37.483, 8, 6),\n",
        "    '송파충전소': (127.105, 37.514, 6, 1)\n",
        "}\n",
        "\n",
        "print(\"\\n충전소 현황:\")\n",
        "for station_name, station_info in charging_stations.items():\n",
        "    lon, lat, total_slots, used_slots = station_info\n",
        "    available = total_slots - used_slots\n",
        "    print(f\"{station_name}: 위치({lon}, {lat}), 사용가능 {available}/{total_slots}슬롯\")\n",
        "\n",
        "# 주차장 구역별 정보\n",
        "parking_areas = {\n",
        "    'A구역': (50, 45, 'compact'),     # 총자리, 사용중, 차량크기\n",
        "    'B구역': (30, 30, 'standard'),\n",
        "    'C구역': (20, 15, 'large'),\n",
        "    'D구역': (15, 8, 'handicapped')\n",
        "}\n",
        "\n",
        "print(\"\\n주차장 현황:\")\n",
        "for area_name, area_info in parking_areas.items():\n",
        "    total, occupied, car_type = area_info\n",
        "    available = total - occupied\n",
        "    utilization = round((occupied / total) * 100, 1)\n",
        "    print(f\"{area_name} ({car_type}): {available}/{total}자리 사용가능 (사용률 {utilization}%)\")\n",
        "\n",
        "print(\"\\n\" + \"=\"*50)"
      ],
      "metadata": {
        "colab": {
          "base_uri": "https://localhost:8080/"
        },
        "id": "bUlM1H7XSoDV",
        "outputId": "d2e2d8ce-235c-4ab2-e85f-8b69e3144014"
      },
      "execution_count": 49,
      "outputs": [
        {
          "output_type": "stream",
          "name": "stdout",
          "text": [
            "차량별 현재 위치:\n",
            "car_001: (127.1, 37.5), 60km/h\n",
            "car_002: (127.2, 37.6), 45km/h\n",
            "car_003: (127.3, 37.4), 80km/h\n",
            "truck_001: (127.0, 37.3), 70km/h\n",
            "\n",
            "충전소 현황:\n",
            "강남충전소: 위치(127.027, 37.498), 사용가능 3/5슬롯\n",
            "서초충전소: 위치(127.032, 37.483), 사용가능 2/8슬롯\n",
            "송파충전소: 위치(127.105, 37.514), 사용가능 5/6슬롯\n",
            "\n",
            "주차장 현황:\n",
            "A구역 (compact): 5/50자리 사용가능 (사용률 90.0%)\n",
            "B구역 (standard): 0/30자리 사용가능 (사용률 100.0%)\n",
            "C구역 (large): 5/20자리 사용가능 (사용률 75.0%)\n",
            "D구역 (handicapped): 7/15자리 사용가능 (사용률 53.3%)\n",
            "\n",
            "==================================================\n"
          ]
        }
      ]
    },
    {
      "cell_type": "markdown",
      "source": [
        "PART 4: 실전 응용 - 종합 교통 관제 시스템"
      ],
      "metadata": {
        "id": "bNq_m3AwXf6u"
      }
    },
    {
      "cell_type": "code",
      "source": [
        "# 실시간 교통 데이터 (시간, 위치, 속도, 차량타입, 차선)\n",
        "traffic_data = [\n",
        "    ('09:15', (127.1, 37.5), 45, 'sedan', 1),\n",
        "    ('09:16', (127.2, 37.6), 60, 'truck', 2),\n",
        "    ('09:17', (127.3, 37.4), 30, 'bus', 1),\n",
        "    ('09:18', (127.0, 37.3), 80, 'sedan', 3)\n",
        "]\n",
        "\n",
        "print(\"실시간 교통 모니터링:\")\n",
        "for data in traffic_data:\n",
        "    time, position, speed, vehicle_type, lane = data\n",
        "    lon, lat = position  # 중첩 tuple unpacking\n",
        "    print(f\"{time} | {vehicle_type} | ({lon}, {lat}) | {speed}km/h | {lane}차선\")\n",
        "\n",
        "# 사고 신고 데이터 (시간, 위치, 심각도, 처리상태)\n",
        "accident_reports = [\n",
        "    ('10:30', (127.15, 37.55), 'minor', False),\n",
        "    ('10:45', (127.25, 37.65), 'major', True),\n",
        "    ('11:00', (127.35, 37.45), 'minor', False)\n",
        "]\n",
        "\n",
        "print(\"\\n사고 신고 현황:\")\n",
        "for report in accident_reports:\n",
        "    time, location, severity, handled = report\n",
        "    lon, lat = location\n",
        "    status = \"처리완료\" if handled else \"처리중\"\n",
        "    print(f\"{time} | ({lon}, {lat}) | {severity} | {status}\")\n",
        "\n",
        "# 미처리 사고만 필터링\n",
        "print(\"\\n미처리 사고:\")\n",
        "for report in accident_reports:\n",
        "    time, location, severity, handled = report\n",
        "    if not handled:\n",
        "        lon, lat = location\n",
        "        print(f\"⚠️ {time} | ({lon}, {lat}) | {severity} - 즉시 처리 필요\")\n",
        "\n",
        "# 날씨별 권장 주행 조건 (날씨, 최대속도, 안전거리배수, 라이트사용)\n",
        "weather_conditions = [\n",
        "    ('맑음', 100, 1.0, False),\n",
        "    ('비', 80, 1.5, True),\n",
        "    ('눈', 60, 2.0, True),\n",
        "    ('안개', 50, 2.5, True)\n",
        "]\n",
        "\n",
        "current_weather = '비'  # 현재 날씨 설정\n",
        "\n",
        "print(f\"\\n현재 날씨: {current_weather}\")\n",
        "print(\"권장 주행 조건:\")\n",
        "for condition in weather_conditions:\n",
        "    weather, max_speed, distance_factor, lights_on = condition\n",
        "    if weather == current_weather:\n",
        "        print(f\"최대속도: {max_speed}km/h\")\n",
        "        print(f\"안전거리: 평소의 {distance_factor}배\")\n",
        "        print(f\"라이트 사용: {'필수' if lights_on else '선택'}\")\n",
        "        break\n",
        "\n",
        "# 차량 상태 진단 결과 (차량ID, 엔진상태점수, 브레이크상태점수, 종합판정)\n",
        "vehicle_diagnostics = {\n",
        "    'EV001': (95, 88, 'excellent'),\n",
        "    'EV002': (82, 75, 'good'),\n",
        "    'EV003': (65, 45, 'caution'),\n",
        "    'EV004': (45, 30, 'maintenance')\n",
        "}\n",
        "\n",
        "print(\"\\n차량 상태 진단:\")\n",
        "for vehicle_id, diagnosis in vehicle_diagnostics.items():\n",
        "    engine_score, brake_score, overall_status = diagnosis\n",
        "    avg_score = (engine_score + brake_score) / 2\n",
        "    print(f\"{vehicle_id}: 엔진 {engine_score}점, 브레이크 {brake_score}점, 평균 {avg_score:.1f}점 ({overall_status})\")\n",
        "\n",
        "# 정비 필요 차량 필터링\n",
        "print(\"\\n정비 필요 차량:\")\n",
        "for vehicle_id, diagnosis in vehicle_diagnostics.items():\n",
        "    engine_score, brake_score, overall_status = diagnosis\n",
        "    if overall_status in ['caution', 'maintenance']:\n",
        "        print(f\"🔧 {vehicle_id}: {overall_status} - 점검 필요\")\n"
      ],
      "metadata": {
        "colab": {
          "base_uri": "https://localhost:8080/"
        },
        "id": "MGH4ZxCnXk2Z",
        "outputId": "725b3891-5880-4477-a837-3d700710f304"
      },
      "execution_count": 50,
      "outputs": [
        {
          "output_type": "stream",
          "name": "stdout",
          "text": [
            "실시간 교통 모니터링:\n",
            "09:15 | sedan | (127.1, 37.5) | 45km/h | 1차선\n",
            "09:16 | truck | (127.2, 37.6) | 60km/h | 2차선\n",
            "09:17 | bus | (127.3, 37.4) | 30km/h | 1차선\n",
            "09:18 | sedan | (127.0, 37.3) | 80km/h | 3차선\n",
            "\n",
            "사고 신고 현황:\n",
            "10:30 | (127.15, 37.55) | minor | 처리중\n",
            "10:45 | (127.25, 37.65) | major | 처리완료\n",
            "11:00 | (127.35, 37.45) | minor | 처리중\n",
            "\n",
            "미처리 사고:\n",
            "⚠️ 10:30 | (127.15, 37.55) | minor - 즉시 처리 필요\n",
            "⚠️ 11:00 | (127.35, 37.45) | minor - 즉시 처리 필요\n",
            "\n",
            "현재 날씨: 비\n",
            "권장 주행 조건:\n",
            "최대속도: 80km/h\n",
            "안전거리: 평소의 1.5배\n",
            "라이트 사용: 필수\n",
            "\n",
            "차량 상태 진단:\n",
            "EV001: 엔진 95점, 브레이크 88점, 평균 91.5점 (excellent)\n",
            "EV002: 엔진 82점, 브레이크 75점, 평균 78.5점 (good)\n",
            "EV003: 엔진 65점, 브레이크 45점, 평균 55.0점 (caution)\n",
            "EV004: 엔진 45점, 브레이크 30점, 평균 37.5점 (maintenance)\n",
            "\n",
            "정비 필요 차량:\n",
            "🔧 EV003: caution - 점검 필요\n",
            "🔧 EV004: maintenance - 점검 필요\n"
          ]
        }
      ]
    }
  ]
}